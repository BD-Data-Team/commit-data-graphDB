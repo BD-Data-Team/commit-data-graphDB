{
 "cells": [
  {
   "cell_type": "code",
   "execution_count": 1,
   "metadata": {},
   "outputs": [],
   "source": [
    "import os, sys\n",
    "\n",
    "fileDir = os.getcwd()\n",
    "path = os.path.join(fileDir, \"..\")\n",
    "sys.path.append(path)\n",
    "\n",
    "from utilities import *"
   ]
  },
  {
   "cell_type": "markdown",
   "metadata": {},
   "source": [
    "# Sample Data"
   ]
  },
  {
   "cell_type": "code",
   "execution_count": 2,
   "metadata": {},
   "outputs": [],
   "source": [
    "data = [(1, \"Alice\"),\n",
    "        (2, \"Bob\"),\n",
    "        (3, \"Charlie\")]\n",
    "\n",
    "columns = [\"id\", \"name\"]"
   ]
  },
  {
   "cell_type": "markdown",
   "metadata": {},
   "source": [
    "# Neo4j connector test"
   ]
  },
  {
   "cell_type": "code",
   "execution_count": 3,
   "metadata": {},
   "outputs": [
    {
     "name": "stdout",
     "output_type": "stream",
     "text": [
      "Added dependencies: \n",
      " ['neo4j-connector-apache-spark_2.12-5.0.1_for_spark_3.jar']\n",
      "format: \n",
      " org.neo4j.spark.DataSource\n",
      "oprtions: \n",
      " {'url': 'bolt://neo4j:7687', 'authentication.basic.username': 'neo4j', 'authentication.basic.password': 'password', 'node.keys': 'id', 'labels': ':Person'}\n"
     ]
    }
   ],
   "source": [
    "session = create_spark_session(\"Neo4j\", SparkConnector.NEO4J)\n",
    "df = session.createDataFrame(data, columns)\n",
    "\n",
    "options = get_default_options(SparkConnector.NEO4J)\n",
    "options[\"node.keys\"] = \"id\"\n",
    "options[\"labels\"] = \":Person\"\n",
    "\n",
    "spark_write(SparkConnector.NEO4J, df, \"Overwrite\", options=options)\n",
    "session.sparkContext.stop()\n",
    "session.stop()"
   ]
  }
 ],
 "metadata": {
  "kernelspec": {
   "display_name": "Python 3 (ipykernel)",
   "language": "python",
   "name": "python3"
  },
  "language_info": {
   "codemirror_mode": {
    "name": "ipython",
    "version": 3
   },
   "file_extension": ".py",
   "mimetype": "text/x-python",
   "name": "python",
   "nbconvert_exporter": "python",
   "pygments_lexer": "ipython3",
   "version": "3.7.12"
  }
 },
 "nbformat": 4,
 "nbformat_minor": 4
}
