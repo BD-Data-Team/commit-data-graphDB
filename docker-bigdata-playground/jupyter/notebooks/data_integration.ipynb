{
 "cells": [
  {
   "cell_type": "code",
   "execution_count": 1,
   "metadata": {},
   "outputs": [],
   "source": [
    "import sys\n",
    "fileDir = \"/home/jovyan/notebooks\"\n",
    "sys.path.append(fileDir)\n",
    "\n",
    "from utilities import *\n",
    "from github import Github\n",
    "import json\n",
    "from github import Auth\n",
    "import pandas as pd\n",
    "import time"
   ]
  },
  {
   "cell_type": "code",
   "execution_count": 2,
   "metadata": {},
   "outputs": [],
   "source": [
    "session = SparkSession.builder \\\n",
    "    .appName(\"Data integration\") \\\n",
    "    .master(SPARK_MASTER_URL) \\\n",
    "    .config(\"spark.executor.memory\", \"5G\") \\\n",
    "    .config(\"spark.authenticate\", \"false\") \\\n",
    "    .getOrCreate()"
   ]
  },
  {
   "cell_type": "code",
   "execution_count": 3,
   "metadata": {},
   "outputs": [],
   "source": [
    "HDFS_URL = \"hdfs://namenode:9000//data-team\"\n",
    "PREFIX = \"sample_\"  # \"sample_\" or \"\""
   ]
  },
  {
   "cell_type": "markdown",
   "metadata": {},
   "source": [
    "### Reading from HDFS"
   ]
  },
  {
   "cell_type": "code",
   "execution_count": 4,
   "metadata": {},
   "outputs": [],
   "source": [
    "# cambia se ti serve il dataset completo\n",
    "repositories = session.read.json(f\"{HDFS_URL}/{PREFIX}repositories.json\")\n",
    "repositories_names = repositories.select(\"repo_name\").rdd.flatMap(lambda x: x).collect()"
   ]
  },
  {
   "cell_type": "markdown",
   "metadata": {},
   "source": [
    "### Retrieve additional data from the GitHub API and dump it to a CSV"
   ]
  },
  {
   "cell_type": "code",
   "execution_count": 5,
   "metadata": {},
   "outputs": [],
   "source": [
    "# Import github token from json file\n",
    "credentials = json.load(open(f'{fileDir}/credentials.json'))\n",
    "\n",
    "# using an access token\n",
    "auth = Auth.Token(credentials['token'])\n",
    "\n",
    "# Public Web Github\n",
    "g = Github(auth=auth)"
   ]
  },
  {
   "cell_type": "code",
   "execution_count": 6,
   "metadata": {},
   "outputs": [
    {
     "name": "stderr",
     "output_type": "stream",
     "text": [
      "Following Github server redirection from /repos/firehol/netdata to /repositories/10744183\n",
      "Following Github server redirection from /repos/ParsePlatform/parse-server to /repositories/50603846\n"
     ]
    }
   ],
   "source": [
    "features = [\"forks_count\", \"default_branch\",\n",
    "            \"open_issues_count\", \"created_at\",\"stargazers_count\",\n",
    "            \"language\", \"topics\", \"visibility\"]\n",
    "columns_names = [\"repo_name\"] + features\n",
    "\n",
    "repo_data_df = pd.DataFrame(columns=columns_names)\n",
    "\n",
    "for repo_name in repositories_names:\n",
    "    attributes_map = collectAttributes(g.get_repo(repo_name), features)\n",
    "    attributes = [attributes_map[f] for f in features]\n",
    "\n",
    "    time.sleep(1.5) # avoid to exceed the rate limit of GitHub API\n",
    "\n",
    "    new_row = [repo_name] + attributes\n",
    "\n",
    "    repo_data_df.loc[len(repo_data_df)] = new_row"
   ]
  },
  {
   "cell_type": "code",
   "execution_count": null,
   "metadata": {},
   "outputs": [],
   "source": [
    "spark_df = session.createDataFrame(repo_data_df)\n",
    "\n",
    "# save to csv format in the hdfs\n",
    "spark_df.repartition(1) \\\n",
    "        .withColumn(\"topics\", spark_df[\"topics\"].cast(\"string\")) \\\n",
    "        .write.csv(f\"{HDFS_URL}/{PREFIX}repo_API_data.csv\", header=True, mode=\"overwrite\")"
   ]
  },
  {
   "cell_type": "code",
   "execution_count": null,
   "metadata": {},
   "outputs": [],
   "source": [
    "session.sparkContext.stop()\n",
    "session.stop()"
   ]
  }
 ],
 "metadata": {
  "kernelspec": {
   "display_name": "Python 3 (ipykernel)",
   "language": "python",
   "name": "python3"
  },
  "language_info": {
   "codemirror_mode": {
    "name": "ipython",
    "version": 3
   },
   "file_extension": ".py",
   "mimetype": "text/x-python",
   "name": "python",
   "nbconvert_exporter": "python",
   "pygments_lexer": "ipython3",
   "version": "3.7.12"
  },
  "orig_nbformat": 4
 },
 "nbformat": 4,
 "nbformat_minor": 2
}
