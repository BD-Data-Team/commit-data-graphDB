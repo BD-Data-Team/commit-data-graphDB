{
 "cells": [
  {
   "cell_type": "code",
   "execution_count": 1,
   "metadata": {},
   "outputs": [],
   "source": [
    "import sys\n",
    "fileDir = \"/home/jovyan/notebooks/\"\n",
    "sys.path.append(fileDir)\n",
    "\n",
    "from utilities import *\n",
    "\n",
    "import pyspark.sql.functions as F\n",
    "import pyspark.sql.types as T"
   ]
  },
  {
   "cell_type": "code",
   "execution_count": 2,
   "metadata": {},
   "outputs": [
    {
     "name": "stdout",
     "output_type": "stream",
     "text": [
      "Added dependencies: \n",
      " ['postgresql-42.5.0.jar', 'tigergraph-jdbc-driver-1.3.6.jar']\n"
     ]
    }
   ],
   "source": [
    "session = create_spark_session(\"Tigergraph GitHub\", SparkConnector.TIGERGRAPH)"
   ]
  },
  {
   "cell_type": "code",
   "execution_count": 4,
   "metadata": {},
   "outputs": [
    {
     "name": "stdout",
     "output_type": "stream",
     "text": [
      "Dataframe loaded from tigergraph\n"
     ]
    }
   ],
   "source": [
    "options = get_default_options(SparkConnector.TIGERGRAPH)\n",
    "options[\"dbtable\"] = f'query TopNReposContributor(N=10)'\n",
    "top10contributors = spark_read(SparkConnector.TIGERGRAPH, session, options=options)"
   ]
  },
  {
   "cell_type": "code",
   "execution_count": 8,
   "metadata": {},
   "outputs": [
    {
     "name": "stdout",
     "output_type": "stream",
     "text": [
      "+------+--------------------+\n",
      "|number|         contributor|\n",
      "+------+--------------------+\n",
      "|   4.0|d41f8067726d84343...|\n",
      "|   3.0|e4389f22591c14262...|\n",
      "|   3.0|10bf4b03df8e0eeff...|\n",
      "|   3.0|3cdad62e5d538d443...|\n",
      "|   3.0|1c358da00a777d4e9...|\n",
      "|   3.0|3e5d4505bd1e679d6...|\n",
      "|   3.0|35a46e17bc00e9333...|\n",
      "|   3.0|59bd0a3ff43b32849...|\n",
      "|   2.0|9b18d1d713d6c6ec5...|\n",
      "|   2.0|02b5979954add9f11...|\n",
      "+------+--------------------+\n",
      "\n"
     ]
    }
   ],
   "source": [
    "top10contributors.show(10)"
   ]
  },
  {
   "cell_type": "code",
   "execution_count": 14,
   "metadata": {},
   "outputs": [
    {
     "name": "stdout",
     "output_type": "stream",
     "text": [
      "Dataframe loaded from tigergraph\n"
     ]
    }
   ],
   "source": [
    "options = get_default_options(SparkConnector.TIGERGRAPH)\n",
    "options[\"dbtable\"] = f'query ReposWithMorePercentageOnLenguage(p=0, lang=\"C++\")'\n",
    "repos = spark_read(SparkConnector.TIGERGRAPH, session, options=options)"
   ]
  },
  {
   "cell_type": "code",
   "execution_count": 15,
   "metadata": {},
   "outputs": [
    {
     "name": "stdout",
     "output_type": "stream",
     "text": [
      "+--------------+---------------------+---------------------+\n",
      "|facebook/react|tensorflow/tensorflow|facebook/react-native|\n",
      "+--------------+---------------------+---------------------+\n",
      "|   0.006779823|            0.6301209|            0.1897953|\n",
      "+--------------+---------------------+---------------------+\n",
      "\n"
     ]
    }
   ],
   "source": [
    "repos.show(10)"
   ]
  }
 ],
 "metadata": {
  "kernelspec": {
   "display_name": "Python 3 (ipykernel)",
   "language": "python",
   "name": "python3"
  },
  "language_info": {
   "codemirror_mode": {
    "name": "ipython",
    "version": 3
   },
   "file_extension": ".py",
   "mimetype": "text/x-python",
   "name": "python",
   "nbconvert_exporter": "python",
   "pygments_lexer": "ipython3",
   "version": "3.7.12"
  },
  "orig_nbformat": 4
 },
 "nbformat": 4,
 "nbformat_minor": 2
}
