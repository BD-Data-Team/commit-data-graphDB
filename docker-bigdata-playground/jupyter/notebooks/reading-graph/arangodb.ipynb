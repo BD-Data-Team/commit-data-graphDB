{
 "cells": [
  {
   "cell_type": "code",
   "execution_count": 39,
   "metadata": {},
   "outputs": [],
   "source": [
    "import sys\n",
    "fileDir = \"/home/jovyan/notebooks/\"\n",
    "sys.path.append(fileDir)\n",
    "\n",
    "from utilities import *\n",
    "import pyspark.sql.functions as F"
   ]
  },
  {
   "cell_type": "code",
   "execution_count": 40,
   "metadata": {},
   "outputs": [],
   "source": [
    "from pyspark import pandas as ps\n",
    "import pyspark.sql.types as T"
   ]
  },
  {
   "cell_type": "code",
   "execution_count": 41,
   "metadata": {},
   "outputs": [
    {
     "name": "stdout",
     "output_type": "stream",
     "text": [
      "Added dependencies: \n",
      " ['arangodb-java-driver-shaded-7.1.0.jar', 'arangodb-spark-commons-3.3_2.12-1.5.0.jar', 'arangodb-spark-datasource-3.3_2.12-1.5.0.jar', 'commons-codec-1.11.jar', 'commons-logging-1.2.jar', 'httpclient-4.5.13.jar', 'httpcore-4.4.13.jar', 'jackson-dataformat-velocypack-4.1.0.jar', 'slf4j-api-2.0.7.jar']\n"
     ]
    }
   ],
   "source": [
    "session = create_spark_session(\"ArangoDB GitHub\", SparkConnector.ARANGO)"
   ]
  },
  {
   "cell_type": "code",
   "execution_count": 42,
   "metadata": {},
   "outputs": [
    {
     "name": "stdout",
     "output_type": "stream",
     "text": [
      "Dataframe loaded from arangodb\n"
     ]
    },
    {
     "data": {
      "text/plain": [
       "[Row(contributor_name='Facebook Community Bot', id_commit='b5651d945cd6f30402b7edbcfb49983159080a47'),\n",
       " Row(contributor_name='Facebook Community Bot', id_commit='523ab8333800afbfb169c6fd70ab6611fe07cc2a'),\n",
       " Row(contributor_name='Facebook Community Bot', id_commit='9d36375b668875f77ff79732a1f7d916b6a33f9e'),\n",
       " Row(contributor_name='Facebook Community Bot', id_commit='f0f83eb3b13bdb6fdfb85b4859709b87d43cf5b6'),\n",
       " Row(contributor_name='Facebook Community Bot', id_commit='5b267091ed126ef7fc67ff2dd3749fa3ea5f14ac'),\n",
       " Row(contributor_name='Facebook Community Bot', id_commit='1ee7a0a67e77c6b013d2ab983f10408c6dc62047'),\n",
       " Row(contributor_name='Facebook Community Bot', id_commit='98a74b0a2ba91a0edbef1802acbd942c4982e084'),\n",
       " Row(contributor_name='Facebook Community Bot', id_commit='23fbd312aa80233d4062de28cb950c91786fb3f1'),\n",
       " Row(contributor_name='Facebook Community Bot', id_commit='7498e5ce77a7b5c2d3aadf9da0413559f701ed94'),\n",
       " Row(contributor_name='Facebook Community Bot', id_commit='ad76eb368ee40ffd6827e4db2278d16feb04d16b'),\n",
       " Row(contributor_name='Facebook Community Bot', id_commit='0088c22b3dcb70cbe5879bb47d4f020be2493f4d'),\n",
       " Row(contributor_name='Facebook Community Bot', id_commit='73bc96ecf9a16d420533c12e9e1812ffe21c10a2'),\n",
       " Row(contributor_name='Facebook Community Bot', id_commit='eb95b2f8557ca9e763d2399f7f59ffa764fe95c3'),\n",
       " Row(contributor_name='Facebook Community Bot', id_commit='cd263a2cc7d93c73a96c9eceede4ec53a9ee9e04'),\n",
       " Row(contributor_name='Facebook Community Bot', id_commit='4d54b48167c99d0f3a8917e7637ffe3304c6bed6'),\n",
       " Row(contributor_name='Facebook Community Bot', id_commit='98685e8960eefbae42b8a6997d92a6db8e853887'),\n",
       " Row(contributor_name='Facebook Community Bot', id_commit='e99fbfcfa93eab79586eb23b5241df5f25ae8f4d'),\n",
       " Row(contributor_name='Facebook Community Bot', id_commit='4a4e083e2a7e444b869a209e571db9ac151c9933'),\n",
       " Row(contributor_name='Facebook Community Bot', id_commit='497191601b2fa171ed5dd72b5c38796a017715a3'),\n",
       " Row(contributor_name='Facebook Community Bot', id_commit='51c0e815575a61477ba1e56d8fdd6658ba066284')]"
      ]
     },
     "metadata": {},
     "output_type": "display_data"
    }
   ],
   "source": [
    "# Tutti i commit di uno specifico contributor\n",
    "\n",
    "options = get_default_options(SparkConnector.ARANGO)\n",
    "options[\"query\"] = \"FOR c in GitContributor \\\n",
    "                    FILTER c._key == 'f08905f3496a7b7d60e0da97307f6ad7594abc92::users.noreply.github.com'\\\n",
    "                    FOR f in outbound c COMMITTED \\\n",
    "                    return {'contributor_name': c.name, 'id_commit': f._key}\"\n",
    "\n",
    "df = spark_read(SparkConnector.ARANGO, session, options=options)\n",
    "display(df.take(20))"
   ]
  },
  {
   "cell_type": "code",
   "execution_count": 43,
   "metadata": {},
   "outputs": [
    {
     "name": "stdout",
     "output_type": "stream",
     "text": [
      "Dataframe loaded from arangodb\n"
     ]
    },
    {
     "data": {
      "text/plain": [
       "[Row(contrib='Ikko Ashimine', repo_count=4),\n",
       " Row(contrib='James George', repo_count=3),\n",
       " Row(contrib='dependabot[bot]', repo_count=3),\n",
       " Row(contrib='Ronald Eddy Jr', repo_count=3),\n",
       " Row(contrib='Michaël De Boey', repo_count=3),\n",
       " Row(contrib='Prayag Verma', repo_count=3),\n",
       " Row(contrib='Kohei TAKATA', repo_count=3),\n",
       " Row(contrib='C. T. Lin', repo_count=3),\n",
       " Row(contrib='Haroen Viaene', repo_count=2),\n",
       " Row(contrib='Tianyu Yao', repo_count=2)]"
      ]
     },
     "metadata": {},
     "output_type": "display_data"
    }
   ],
   "source": [
    "# Find contributors who have contributed to the largest number of repositories\n",
    "\n",
    "options = get_default_options(SparkConnector.ARANGO)\n",
    "options[\"query\"] = \"LET distinctValues = (\\\n",
    "                        FOR c IN GitContributor\\\n",
    "                            FOR commit IN OUTBOUND c AUTHOR\\\n",
    "                                FOR r IN OUTBOUND commit BELONGS_TO\\\n",
    "                                    RETURN DISTINCT{c, r})\\\n",
    "                    FOR d in distinctValues\\\n",
    "                        COLLECT contrib = d.c.name WITH COUNT INTO repo_count\\\n",
    "                        SORT repo_count DESC\\\n",
    "                        FILTER repo_count > 1\\\n",
    "                        LIMIT 10\\\n",
    "                        RETURN {contrib, repo_count}\"\n",
    "\n",
    "df = spark_read(SparkConnector.ARANGO, session, options=options)\n",
    "display(df.take(20))"
   ]
  },
  {
   "cell_type": "code",
   "execution_count": 44,
   "metadata": {},
   "outputs": [],
   "source": [
    "session.sparkContext.stop()\n",
    "session.stop()"
   ]
  },
  {
   "cell_type": "code",
   "execution_count": null,
   "metadata": {},
   "outputs": [],
   "source": []
  }
 ],
 "metadata": {
  "kernelspec": {
   "display_name": "Python 3 (ipykernel)",
   "language": "python",
   "name": "python3"
  },
  "language_info": {
   "codemirror_mode": {
    "name": "ipython",
    "version": 3
   },
   "file_extension": ".py",
   "mimetype": "text/x-python",
   "name": "python",
   "nbconvert_exporter": "python",
   "pygments_lexer": "ipython3",
   "version": "3.7.12"
  }
 },
 "nbformat": 4,
 "nbformat_minor": 4
}
