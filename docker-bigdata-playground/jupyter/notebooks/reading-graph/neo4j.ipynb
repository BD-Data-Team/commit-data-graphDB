{
 "cells": [
  {
   "cell_type": "code",
   "execution_count": null,
   "metadata": {},
   "outputs": [],
   "source": [
    "import sys\n",
    "fileDir = \"/home/jovyan/notebooks/\"\n",
    "sys.path.append(fileDir)\n",
    "\n",
    "from utilities import *\n",
    "\n",
    "import pyspark.sql.functions as F\n",
    "import pyspark.sql.types as T"
   ]
  },
  {
   "cell_type": "code",
   "execution_count": null,
   "metadata": {},
   "outputs": [],
   "source": [
    "session = create_spark_session(\"Neo4j GitHub\", SparkConnector.NEO4J)"
   ]
  },
  {
   "cell_type": "code",
   "execution_count": null,
   "metadata": {},
   "outputs": [],
   "source": [
    "# Scenario 1\n",
    "\n",
    "options = get_default_options(SparkConnector.NEO4J)\n",
    "options[\"query\"] =  \"\"\"\n",
    "                        MATCH (contrib:GitContributor)-[:AUTHOR]->(commit:GitCommit)-[:BELONGS_TO]->(repo:GitRepository)\n",
    "                        WITH contrib, COUNT(DISTINCT repo) as repo_count\n",
    "                        RETURN contrib, repo_count ORDER BY repo_count DESC\n",
    "                    \"\"\"\n",
    "top10contributors = spark_read(SparkConnector.NEO4J, session, options=options)\n",
    "display(top10contributors.take(10))"
   ]
  },
  {
   "cell_type": "code",
   "execution_count": null,
   "metadata": {},
   "outputs": [],
   "source": [
    "# Scenario 2:\n",
    "\n",
    "LANGUAGE = \"C++\"\n",
    "PERCENTAGE = 0.5\n",
    "options = get_default_options(SparkConnector.NEO4J)\n",
    "options[\"query\"] = f\"\"\"\n",
    "                    MATCH (r:GitRepository)-[w:WRITTED_IN]->(l:GitLanguage)\n",
    "                    WITH r, SUM(w.bytes) AS totalBytesForRepo, collect({{language_name:l.name,bytes: w.bytes}}) AS bytesForLanguages\n",
    "                    UNWIND bytesForLanguages AS bytesForLanguage\n",
    "                    WITH r.name AS repo_name, bytesForLanguage.language_name AS lang, round((bytesForLanguage.bytes*1.0/totalBytesForRepo),2) AS percOfBytes\n",
    "                        WHERE lang = \"{LANGUAGE}\" AND percOfBytes > {PERCENTAGE}\n",
    "                    RETURN repo_name, lang, percOfBytes \n",
    "                  \"\"\"\n",
    "bytesPercentageInRepos = spark_read(SparkConnector.NEO4J, session, options=options)\n",
    "display(bytesPercentageInRepos.take(10))"
   ]
  },
  {
   "cell_type": "code",
   "execution_count": null,
   "metadata": {},
   "outputs": [],
   "source": [
    "# Scenario 3:\n",
    "REPO_NAME = \"tensorflow/tensorflow\"\n",
    "options = get_default_options(SparkConnector.NEO4J)\n",
    "options[\"query\"] =  f\"\"\"\n",
    "                        MATCH (repository:GitRepository {{name: \"{REPO_NAME}\"}})<-[:BELONGS_TO]-(commit:GitCommit), \n",
    "                            r = (commit)-[:PARENT]->()\n",
    "                        WITH commit, collect(r) AS parents\n",
    "                        WHERE size(parents) > 1\n",
    "                        RETURN count(commit) AS mergeCount\n",
    "                    \"\"\"\n",
    "bytesPercentageInRepos = spark_read(SparkConnector.NEO4J, session, options=options)\n",
    "bytesPercentageInRepos.show(10)"
   ]
  },
  {
   "cell_type": "code",
   "execution_count": null,
   "metadata": {},
   "outputs": [],
   "source": [
    "# Scenario 4 - project graph repo and commits:\n",
    "query = \"\"\"\n",
    "             CALL gds.graph.project.cypher(\n",
    "              'repoAndCommits',\n",
    "              'MATCH (n:GitCommit) RETURN ID(n) AS id \n",
    "              UNION \n",
    "              MATCH (n:GitRepository) RETURN ID(n) as id',\n",
    "              'MATCH (n:GitCommit)-[:PARENT]->(m:GitCommit) RETURN ID(n) AS source, ID(m) AS target \n",
    "              UNION \n",
    "              MATCH (c:GitCommit)-[:BELONGS_TO]->(r:GitRepository) RETURN ID(c) AS source, ID(r) AS target'\n",
    "                )\n",
    "        \"\"\"\n",
    "raise Exception(\"Put query text in the neo4j GUI\")"
   ]
  },
  {
   "cell_type": "code",
   "execution_count": null,
   "metadata": {},
   "outputs": [],
   "source": [
    "# Scenario 4 - project graph contributors, commits and repos:\n",
    "query = \"\"\"\n",
    "             CALL gds.graph.project.cypher(\n",
    "              'contribRepoAndCommits',\n",
    "              'MATCH (n:GitContributor) RETURN ID(n) AS id \n",
    "               UNION \n",
    "               MATCH (n:GitCommit) RETURN ID(n) as id\n",
    "               UNION\n",
    "               MATCH (n:GitRepository) RETURN ID(n) as id',\n",
    "              'MATCH (u:GitContributor)-[:COMMITTED]->(w:GitCommit) RETURN ID(u) AS Source, ID(w) AS Target \n",
    "               UNION\n",
    "               MATCH (s:GitContributor)-[:AUTHOR]->(t:GitCommit) RETURN ID(s) AS Source, ID(t) AS Target \n",
    "               UNION\n",
    "               MATCH (n:GitCommit)-[:PARENT]->(m:GitCommit) RETURN ID(n) AS Source, ID(m) AS Target \n",
    "               UNION \n",
    "               MATCH (c:GitCommit)-[:BELONGS_TO]->(r:GitRepository) RETURN ID(c) AS Source, ID(r) AS Target'\n",
    "        )\n",
    "        \"\"\"\n",
    "raise Exception(\"Put query text in the neo4j GUI\")\n"
   ]
  },
  {
   "cell_type": "code",
   "execution_count": null,
   "metadata": {},
   "outputs": [],
   "source": [
    "# Scenario 4 - Louvain:\n",
    "PROJ_NAME = \"repoAndCommits\" or \"contribRepoAndCommits\"\n",
    "\n",
    "options = get_default_options(SparkConnector.NEO4J)\n",
    "options[\"query\"] =  f\"\"\"\n",
    "                        CALL gds.louvain.stream('{PROJ_NAME}')\n",
    "                        YIELD nodeId, communityId, intermediateCommunityIds\n",
    "                        RETURN nodeId as ID, communityId \n",
    "                    \"\"\"\n",
    "louvain = spark_read(SparkConnector.NEO4J, session, options=options)\n",
    "louvain.write.option(\"header\", True).mode(\"overwrite\").csv(\"hdfs://namenode:9000//data-team/louvain\")"
   ]
  },
  {
   "cell_type": "code",
   "execution_count": null,
   "metadata": {},
   "outputs": [],
   "source": [
    "# Scenario 4 - WCC:\n",
    "options = get_default_options(SparkConnector.NEO4J)\n",
    "options[\"query\"] =  f\"\"\"\n",
    "                        CALL gds.wcc.stream('{PROJ_NAME}') YIELD nodeId, componentId\n",
    "                        RETURN nodeId AS ID, componentId\n",
    "                    \"\"\"\n",
    "wcc = spark_read(SparkConnector.NEO4J, session, options=options)\n",
    "wcc.write.option(\"header\", True).mode(\"overwrite\").csv(\"hdfs://namenode:9000//data-team/wcc\")"
   ]
  },
  {
   "cell_type": "code",
   "execution_count": null,
   "metadata": {},
   "outputs": [],
   "source": [
    "session.sparkContext.stop()\n",
    "session.stop()"
   ]
  }
 ],
 "metadata": {
  "kernelspec": {
   "display_name": "Python 3 (ipykernel)",
   "language": "python",
   "name": "python3"
  },
  "language_info": {
   "codemirror_mode": {
    "name": "ipython",
    "version": 3
   },
   "file_extension": ".py",
   "mimetype": "text/x-python",
   "name": "python",
   "nbconvert_exporter": "python",
   "pygments_lexer": "ipython3",
   "version": "3.7.12"
  }
 },
 "nbformat": 4,
 "nbformat_minor": 4
}
