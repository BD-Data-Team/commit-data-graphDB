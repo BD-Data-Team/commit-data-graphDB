{
 "cells": [
  {
   "cell_type": "code",
   "execution_count": 10,
   "metadata": {},
   "outputs": [],
   "source": [
    "import sys\n",
    "fileDir = \"/home/jovyan/notebooks/\"\n",
    "sys.path.append(fileDir)\n",
    "\n",
    "from utilities import *\n",
    "\n",
    "import pyspark.sql.functions as F\n",
    "import pyspark.sql.types as T"
   ]
  },
  {
   "cell_type": "code",
   "execution_count": 11,
   "metadata": {},
   "outputs": [
    {
     "name": "stdout",
     "output_type": "stream",
     "text": [
      "Added dependencies: \n",
      " ['neo4j-connector-apache-spark_2.12-5.0.1_for_spark_3.jar']\n"
     ]
    }
   ],
   "source": [
    "session = create_spark_session(\"Neo4j GitHub\", SparkConnector.NEO4J)"
   ]
  },
  {
   "cell_type": "code",
   "execution_count": 5,
   "metadata": {},
   "outputs": [
    {
     "name": "stdout",
     "output_type": "stream",
     "text": [
      "Dataframe loaded from neo4j\n"
     ]
    },
    {
     "data": {
      "text/plain": [
       "[Row(contrib=Row(<id>=11587, <labels>=['GitContributor'], name='Ikko Ashimine', email='d41f8067726d843438db002d5555099b4901d7c1@gmail.com'), repo_count=4),\n",
       " Row(contrib=Row(<id>=1402, <labels>=['GitContributor'], name='dependabot[bot]', email='1c358da00a777d4e9898c1280ab801e2df165188@users.noreply.github.com'), repo_count=3),\n",
       " Row(contrib=Row(<id>=3485, <labels>=['GitContributor'], name='Prayag Verma', email='35a46e17bc00e93336a001ea5a30f33595fd0d03@gmail.com'), repo_count=3),\n",
       " Row(contrib=Row(<id>=5545, <labels>=['GitContributor'], name='Michaël De Boey', email='59bd0a3ff43b32849b319e645d4798d8a5d1e889@michaeldeboey.be'), repo_count=3),\n",
       " Row(contrib=Row(<id>=2824, <labels>=['GitContributor'], name='James George', email='3e5d4505bd1e679d62cbd9e85b63ce0b6e249349@gmail.com'), repo_count=3),\n",
       " Row(contrib=Row(<id>=1275, <labels>=['GitContributor'], name='Ronald Eddy Jr', email='10bf4b03df8e0eeff31b9303c48728d238ba68d1@yahoo.com'), repo_count=3),\n",
       " Row(contrib=Row(<id>=3904, <labels>=['GitContributor'], name='Kohei TAKATA', email='3cdad62e5d538d4437a0aa4eb1517f98dfb8a8c9@gmail.com'), repo_count=3),\n",
       " Row(contrib=Row(<id>=13450, <labels>=['GitContributor'], name='C. T. Lin', email='e4389f22591c1426226153f014035d933d40e642@gmail.com'), repo_count=3),\n",
       " Row(contrib=Row(<id>=2225, <labels>=['GitContributor'], name='Sahat Yalkabov', email='2130a7b4048599683c6747f137ac4b4f600878dc@gmail.com'), repo_count=2),\n",
       " Row(contrib=Row(<id>=9878, <labels>=['GitContributor'], name='Lipis', email='c313aef6e8eb23d624e7a9c6b4b18a00e06b4d97@gmail.com'), repo_count=2)]"
      ]
     },
     "metadata": {},
     "output_type": "display_data"
    }
   ],
   "source": [
    "# Scenario 1\n",
    "\n",
    "options = get_default_options(SparkConnector.NEO4J)\n",
    "options[\"query\"] =  \"\"\"\n",
    "                        MATCH (contrib:GitContributor)-[:AUTHOR]->(commit:GitCommit)-[:BELONGS_TO]->(repo:GitRepository)\n",
    "                        WITH contrib, COUNT(DISTINCT repo) as repo_count\n",
    "                        RETURN contrib, repo_count ORDER BY repo_count DESC\n",
    "                    \"\"\"\n",
    "top10contributors = spark_read(SparkConnector.NEO4J, session, options=options)\n",
    "display(top10contributors.take(10))"
   ]
  },
  {
   "cell_type": "code",
   "execution_count": 6,
   "metadata": {},
   "outputs": [
    {
     "name": "stdout",
     "output_type": "stream",
     "text": [
      "Dataframe loaded from neo4j\n"
     ]
    },
    {
     "data": {
      "text/plain": [
       "[Row(repo_name='tensorflow/tensorflow', lang='C++', percOfBytes=0.63)]"
      ]
     },
     "metadata": {},
     "output_type": "display_data"
    }
   ],
   "source": [
    "# Scenario 2:\n",
    "\n",
    "LANGUAGE = \"C++\"\n",
    "PERCENTAGE = 0.5\n",
    "options = get_default_options(SparkConnector.NEO4J)\n",
    "options[\"query\"] = f\"\"\"\n",
    "                    MATCH (r:GitRepository)-[w:WRITTED_IN]->(l:GitLanguage)\n",
    "                    WITH r, SUM(w.bytes) AS totalBytesForRepo, collect({{language_name:l.name,bytes: w.bytes}}) AS bytesForLanguages\n",
    "                    UNWIND bytesForLanguages AS bytesForLanguage\n",
    "                    WITH r.name AS repo_name, bytesForLanguage.language_name AS lang, round((bytesForLanguage.bytes*1.0/totalBytesForRepo),2) AS percOfBytes\n",
    "                        WHERE lang = \"{LANGUAGE}\" AND percOfBytes > {PERCENTAGE}\n",
    "                    RETURN repo_name, lang, percOfBytes \n",
    "                  \"\"\"\n",
    "bytesPercentageInRepos = spark_read(SparkConnector.NEO4J, session, options=options)\n",
    "display(bytesPercentageInRepos.take(10))"
   ]
  },
  {
   "cell_type": "code",
   "execution_count": 7,
   "metadata": {},
   "outputs": [
    {
     "name": "stdout",
     "output_type": "stream",
     "text": [
      "Dataframe loaded from neo4j\n",
      "+----------+\n",
      "|mergeCount|\n",
      "+----------+\n",
      "|     12127|\n",
      "+----------+\n",
      "\n"
     ]
    }
   ],
   "source": [
    "# Scenario 3:\n",
    "REPO_NAME = \"tensorflow/tensorflow\"\n",
    "options = get_default_options(SparkConnector.NEO4J)\n",
    "options[\"query\"] =  f\"\"\"\n",
    "                        MATCH (repository:GitRepository {{name: \"{REPO_NAME}\"}})<-[:BELONGS_TO]-(commit:GitCommit), \n",
    "                            r = (commit)-[:PARENT]->()\n",
    "                        WITH commit, collect(r) AS parents\n",
    "                        WHERE size(parents) > 1\n",
    "                        RETURN count(commit) AS mergeCount\n",
    "                    \"\"\"\n",
    "bytesPercentageInRepos = spark_read(SparkConnector.NEO4J, session, options=options)\n",
    "bytesPercentageInRepos.show(10)"
   ]
  },
  {
   "cell_type": "code",
   "execution_count": 18,
   "metadata": {},
   "outputs": [
    {
     "ename": "Exception",
     "evalue": "Put query text in the neo4j GUI",
     "output_type": "error",
     "traceback": [
      "\u001b[0;31m---------------------------------------------------------------------------\u001b[0m",
      "\u001b[0;31mException\u001b[0m                                 Traceback (most recent call last)",
      "\u001b[0;32m/tmp/ipykernel_2085/260678259.py\u001b[0m in \u001b[0;36m<module>\u001b[0;34m\u001b[0m\n\u001b[1;32m      6\u001b[0m             'MATCH (n)-[:PARENT]->(m) RETURN ID(n) AS source, ID(m) AS target')\n\u001b[1;32m      7\u001b[0m         \"\"\"\n\u001b[0;32m----> 8\u001b[0;31m \u001b[0;32mraise\u001b[0m \u001b[0mException\u001b[0m\u001b[0;34m(\u001b[0m\u001b[0;34m\"Put query text in the neo4j GUI\"\u001b[0m\u001b[0;34m)\u001b[0m\u001b[0;34m\u001b[0m\u001b[0;34m\u001b[0m\u001b[0m\n\u001b[0m",
      "\u001b[0;31mException\u001b[0m: Put query text in the neo4j GUI"
     ]
    }
   ],
   "source": [
    "# Scenario 4:\n",
    "query = \"\"\"\n",
    "             CALL gds.graph.project.cypher(\n",
    "            'allData5',\n",
    "            'MATCH (n:GitCommit) RETURN ID(n) AS id',\n",
    "            'MATCH (n)-[:PARENT]->(m) RETURN ID(n) AS source, ID(m) AS target')\n",
    "        \"\"\"\n",
    "raise Exception(\"Put query text in the neo4j GUI\")"
   ]
  },
  {
   "cell_type": "code",
   "execution_count": 6,
   "metadata": {},
   "outputs": [
    {
     "name": "stdout",
     "output_type": "stream",
     "text": [
      "Dataframe loaded from neo4j\n"
     ]
    }
   ],
   "source": [
    "# Scenario 4:\n",
    "options = get_default_options(SparkConnector.NEO4J)\n",
    "options[\"query\"] =  \"\"\"\n",
    "                        CALL gds.louvain.stream('allData')\n",
    "                        YIELD nodeId, communityId, intermediateCommunityIds\n",
    "                        RETURN nodeId as ID, communityId \n",
    "                    \"\"\"\n",
    "louvain = spark_read(SparkConnector.NEO4J, session, options=options)\n",
    "louvain.write.option(\"header\", True).mode(\"overwrite\").csv(\"hdfs://namenode:9000//data-team/louvain\")"
   ]
  },
  {
   "cell_type": "code",
   "execution_count": 19,
   "metadata": {},
   "outputs": [
    {
     "name": "stdout",
     "output_type": "stream",
     "text": [
      "Dataframe loaded from neo4j\n"
     ]
    }
   ],
   "source": [
    "# Scenario 4:\n",
    "options = get_default_options(SparkConnector.NEO4J)\n",
    "options[\"query\"] =  \"\"\"\n",
    "                        CALL gds.wcc.stream('allData') YIELD nodeId, componentId\n",
    "                        RETURN nodeId AS ID, componentId\n",
    "                    \"\"\"\n",
    "wcc = spark_read(SparkConnector.NEO4J, session, options=options)\n",
    "wcc.write.option(\"header\", True).mode(\"overwrite\").csv(\"hdfs://namenode:9000//data-team/wcc\")"
   ]
  },
  {
   "cell_type": "code",
   "execution_count": 7,
   "metadata": {},
   "outputs": [],
   "source": [
    "session.sparkContext.stop()\n",
    "session.stop()"
   ]
  }
 ],
 "metadata": {
  "kernelspec": {
   "display_name": "Python 3 (ipykernel)",
   "language": "python",
   "name": "python3"
  },
  "language_info": {
   "codemirror_mode": {
    "name": "ipython",
    "version": 3
   },
   "file_extension": ".py",
   "mimetype": "text/x-python",
   "name": "python",
   "nbconvert_exporter": "python",
   "pygments_lexer": "ipython3",
   "version": "3.7.12"
  }
 },
 "nbformat": 4,
 "nbformat_minor": 4
}
