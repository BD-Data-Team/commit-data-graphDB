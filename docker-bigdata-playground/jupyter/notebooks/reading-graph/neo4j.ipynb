{
 "cells": [
  {
   "cell_type": "code",
   "execution_count": 1,
   "metadata": {},
   "outputs": [],
   "source": [
    "import sys\n",
    "fileDir = \"/home/jovyan/notebooks/\"\n",
    "sys.path.append(fileDir)\n",
    "\n",
    "from utilities import *\n",
    "\n",
    "import pyspark.sql.functions as F\n",
    "import pyspark.sql.types as T"
   ]
  },
  {
   "cell_type": "code",
   "execution_count": 2,
   "metadata": {},
   "outputs": [
    {
     "name": "stdout",
     "output_type": "stream",
     "text": [
      "Added dependencies: \n",
      " ['neo4j-connector-apache-spark_2.12-5.0.1_for_spark_3.jar']\n"
     ]
    }
   ],
   "source": [
    "session = create_spark_session(\"Neo4j GitHub\", SparkConnector.NEO4J)"
   ]
  },
  {
   "cell_type": "code",
   "execution_count": null,
   "metadata": {},
   "outputs": [],
   "source": [
    "# Scenario 1\n",
    "\n",
    "options = get_default_options(SparkConnector.NEO4J)\n",
    "options[\"query\"] =  \"\"\"\n",
    "                        MATCH (contrib:GitContributor)-[:AUTHOR]->(commit:GitCommit)-[:BELONGS_TO]->(repo:GitRepository)\n",
    "                        WITH contrib, COUNT(DISTINCT repo) as repo_count\n",
    "                        RETURN contrib, repo_count ORDER BY repo_count DESC\n",
    "                    \"\"\"\n",
    "top10contributors = spark_read(SparkConnector.NEO4J, session, options=options)\n",
    "display(top10contributors.take(10))"
   ]
  },
  {
   "cell_type": "code",
   "execution_count": null,
   "metadata": {},
   "outputs": [],
   "source": [
    "# Scenario 2:\n",
    "\n",
    "LANGUAGE = \"C++\"\n",
    "PERCENTAGE = 0.5\n",
    "options = get_default_options(SparkConnector.NEO4J)\n",
    "options[\"query\"] = f\"\"\"\n",
    "                    MATCH (r:GitRepository)-[w:WRITTED_IN]->(l:GitLanguage)\n",
    "                    WITH r, SUM(w.bytes) AS totalBytesForRepo, collect({{language_name:l.name,bytes: w.bytes}}) AS bytesForLanguages\n",
    "                    UNWIND bytesForLanguages AS bytesForLanguage\n",
    "                    WITH r.name AS repo_name, bytesForLanguage.language_name AS lang, round((bytesForLanguage.bytes*1.0/totalBytesForRepo),2) AS percOfBytes\n",
    "                        WHERE lang = \"{LANGUAGE}\" AND percOfBytes > {PERCENTAGE}\n",
    "                    RETURN repo_name, lang, percOfBytes \n",
    "                  \"\"\"\n",
    "bytesPercentageInRepos = spark_read(SparkConnector.NEO4J, session, options=options)\n",
    "display(bytesPercentageInRepos.take(10))"
   ]
  },
  {
   "cell_type": "code",
   "execution_count": null,
   "metadata": {},
   "outputs": [],
   "source": [
    "# Scenario 3:\n",
    "REPO_NAME = \"tensorflow/tensorflow\"\n",
    "options = get_default_options(SparkConnector.NEO4J)\n",
    "options[\"query\"] =  f\"\"\"\n",
    "                        MATCH (repository:GitRepository {{name: \"{REPO_NAME}\"}})<-[:BELONGS_TO]-(commit:GitCommit), \n",
    "                            r = (commit)-[:PARENT]->()\n",
    "                        WITH commit, collect(r) AS parents\n",
    "                        WHERE size(parents) > 1\n",
    "                        RETURN count(commit) AS mergeCount\n",
    "                    \"\"\"\n",
    "bytesPercentageInRepos = spark_read(SparkConnector.NEO4J, session, options=options)\n",
    "bytesPercentageInRepos.show(10)"
   ]
  },
  {
   "cell_type": "code",
   "execution_count": null,
   "metadata": {},
   "outputs": [],
   "source": [
    "# Scenario 4 - project graph contributors, commits and repos:\n",
    "query = \"\"\"     \n",
    "        CALL gds.graph.project.cypher(\n",
    "              'contribRepoAndCommits',\n",
    "              'MATCH (n) WHERE n:GitContributor OR n:GitCommit OR n:GitRepository RETURN ID(n) AS id',\n",
    "              'MATCH (n)-[r]->(m) WHERE r:PARENT OR r:BELONGS_TO OR r:COMMITTED OR r:AUTHOR RETURN ID(n) AS source, ID(m) AS target'\n",
    "        )\n",
    "        \"\"\"\n",
    "raise Exception(\"Put query text in the neo4j GUI\")"
   ]
  },
  {
   "cell_type": "code",
   "execution_count": 8,
   "metadata": {},
   "outputs": [
    {
     "name": "stdout",
     "output_type": "stream",
     "text": [
      "Dataframe loaded from neo4j\n"
     ]
    }
   ],
   "source": [
    "# Scenario 4 - LabelPropagation:\n",
    "PROJ_NAME = \"contribRepoAndCommits\"  # \"repoAndCommits\"\n",
    "\n",
    "options = get_default_options(SparkConnector.NEO4J)\n",
    "options[\"query\"] =  f\"\"\"\n",
    "                        CALL gds.labelPropagation.stream('{PROJ_NAME}')\n",
    "                        YIELD nodeId, communityId\n",
    "                        RETURN nodeId as ID, communityId \n",
    "                    \"\"\"\n",
    "louvain = spark_read(SparkConnector.NEO4J, session, options=options)\n",
    "louvain.write.option(\"header\", True).mode(\"overwrite\").csv(\"hdfs://namenode:9000//data-team/labelPropagation\")"
   ]
  },
  {
   "cell_type": "code",
   "execution_count": null,
   "metadata": {},
   "outputs": [],
   "source": [
    "session.sparkContext.stop()\n",
    "session.stop()"
   ]
  }
 ],
 "metadata": {
  "kernelspec": {
   "display_name": "Python 3 (ipykernel)",
   "language": "python",
   "name": "python3"
  },
  "language_info": {
   "codemirror_mode": {
    "name": "ipython",
    "version": 3
   },
   "file_extension": ".py",
   "mimetype": "text/x-python",
   "name": "python",
   "nbconvert_exporter": "python",
   "pygments_lexer": "ipython3",
   "version": "3.7.12"
  }
 },
 "nbformat": 4,
 "nbformat_minor": 4
}
