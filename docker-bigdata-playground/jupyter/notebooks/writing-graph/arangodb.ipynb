{
 "cells": [
  {
   "cell_type": "code",
   "execution_count": null,
   "metadata": {},
   "outputs": [],
   "source": [
    "import sys\n",
    "fileDir = \"/home/jovyan/notebooks/\"\n",
    "sys.path.append(fileDir)\n",
    "\n",
    "from utilities import *\n",
    "import pyspark.sql.functions as F"
   ]
  },
  {
   "cell_type": "code",
   "execution_count": null,
   "metadata": {},
   "outputs": [],
   "source": [
    "from pyspark import pandas as ps\n",
    "import pyspark.sql.types as T"
   ]
  },
  {
   "cell_type": "code",
   "execution_count": null,
   "metadata": {},
   "outputs": [],
   "source": [
    "session = create_spark_session(\"ArangoDB GitHub\", SparkConnector.ARANGO)"
   ]
  },
  {
   "cell_type": "code",
   "execution_count": null,
   "metadata": {},
   "outputs": [],
   "source": [
    "common_URI = \"hdfs://namenode:9000//data-team\"\n",
    "prefix = \"sample_\""
   ]
  },
  {
   "cell_type": "markdown",
   "metadata": {},
   "source": [
    "### Reading from the HDFS"
   ]
  },
  {
   "cell_type": "code",
   "execution_count": null,
   "metadata": {},
   "outputs": [],
   "source": [
    "# togli prefix se ti serve il dataset completo\n",
    "languages = session.read.json(f\"{common_URI}/{prefix}languages.json\")\n",
    "languages.printSchema()"
   ]
  },
  {
   "cell_type": "code",
   "execution_count": null,
   "metadata": {},
   "outputs": [],
   "source": [
    "# togli prefix se ti serve il dataset completo\n",
    "repositories_json = session.read.json(f\"{common_URI}/{prefix}repositories.json\")\n",
    "repositories_json.printSchema()"
   ]
  },
  {
   "cell_type": "code",
   "execution_count": null,
   "metadata": {},
   "outputs": [],
   "source": [
    "repositories_csv = session.read.csv(f\"{common_URI}/{prefix}repo_API_data.csv\", header=True, inferSchema=True)\n",
    "repositories_csv = repositories_csv.select(\"repo_name\", \"stargazers_count\", \"topics\")\n",
    "repositories_csv.printSchema()"
   ]
  },
  {
   "cell_type": "code",
   "execution_count": null,
   "metadata": {},
   "outputs": [],
   "source": [
    "repositories = repositories_json.join(\n",
    "    repositories_csv, repositories_json.repo_name == repositories_csv.repo_name, \"left\")\n",
    "repositories.printSchema()"
   ]
  },
  {
   "cell_type": "code",
   "execution_count": null,
   "metadata": {},
   "outputs": [],
   "source": [
    "licences = session.read.json(f\"{common_URI}/{prefix}licences.json\")\n",
    "licences.printSchema()"
   ]
  },
  {
   "cell_type": "code",
   "execution_count": null,
   "metadata": {},
   "outputs": [],
   "source": [
    "commits = session.read.json(f\"{common_URI}/{prefix}commits.json\")\n",
    "commits.printSchema()"
   ]
  },
  {
   "cell_type": "markdown",
   "metadata": {},
   "source": [
    "### Data Pre-processing"
   ]
  },
  {
   "cell_type": "code",
   "execution_count": null,
   "metadata": {},
   "outputs": [],
   "source": [
    "def remove_back(text):\n",
    "    return text.replace(\"/\", \"::\")\n",
    "\n",
    "remove_udf = F.udf(remove_back, T.StringType())\n",
    "repositories = repositories.withColumn(\"repo_name\", remove_udf(\"repo_name\"))\n",
    "commits = commits.withColumn(\"repo\", remove_udf(\"repo\"))\n",
    "licences = licences.withColumn(\"repo_name\", remove_udf(\"repo_name\"))\n",
    "languages = languages.withColumn(\"repo_name\", remove_udf(\"repo_name\"))"
   ]
  },
  {
   "cell_type": "code",
   "execution_count": null,
   "metadata": {},
   "outputs": [],
   "source": [
    "def remove_at_and_blank(text):\n",
    "    return text.replace(\"@\", \"::\").replace(\" \", \"\")\n",
    "\n",
    "remove_at_and_blank = F.udf(remove_at_and_blank, T.StringType())\n",
    "commits = commits.withColumn(\"author_email\", remove_at_and_blank(\"author.email\"))\n",
    "commits = commits.withColumn(\"committer_email\", remove_at_and_blank(\"committer.email\"))"
   ]
  },
  {
   "cell_type": "markdown",
   "metadata": {},
   "source": [
    "### Data Processing"
   ]
  },
  {
   "cell_type": "code",
   "execution_count": null,
   "metadata": {},
   "outputs": [],
   "source": [
    "git_commits= commits.select(\"commit\", \"subject\", \"message\")\n",
    "newColumns = [\"_key\", \"title\", \"message\"]\n",
    "git_commits = git_commits.toDF(*newColumns)\n",
    "git_commits.printSchema()"
   ]
  },
  {
   "cell_type": "code",
   "execution_count": null,
   "metadata": {},
   "outputs": [],
   "source": [
    "git_repositories = repositories.withColumnRenamed(\"repo_name\", \"_key\")\n",
    "git_repositories.show(10)"
   ]
  },
  {
   "cell_type": "code",
   "execution_count": null,
   "metadata": {},
   "outputs": [],
   "source": [
    "def remove_c_sharp(text):\n",
    "    return text.replace(\"#\", \"s\").replace(\" \", \"\").replace(\"++\", \"pp\")\n",
    "\n",
    "remove_c_sharp = F.udf(remove_c_sharp, T.StringType())\n",
    "\n",
    "git_languages = languages.withColumn(\"name\", F.explode(languages[\"language.name\"]))\\\n",
    "    .dropDuplicates([\"name\"])\\\n",
    "    .select(\"name\")\\\n",
    "    .withColumnRenamed(\"name\", \"_key\")\n",
    "\n",
    "git_languages = git_languages.withColumn(\"_key\", remove_c_sharp(git_languages[\"_key\"]))\n",
    "git_languages.printSchema()"
   ]
  },
  {
   "cell_type": "code",
   "execution_count": null,
   "metadata": {},
   "outputs": [],
   "source": [
    "git_licenses = licences.select(\"license\").withColumnRenamed(\n",
    "    \"license\", \"name\").dropDuplicates([\"name\"]).withColumnRenamed(\"name\", \"_key\")\n",
    "git_licenses.printSchema()"
   ]
  },
  {
   "cell_type": "code",
   "execution_count": null,
   "metadata": {},
   "outputs": [],
   "source": [
    "git_contributor = commits.select(\"author.name\",commits[\"author_email\"].alias(\"email\")) \\\n",
    "    .union(commits.select(\"committer.name\", commits[\"committer_email\"].alias(\"email\"))) \\\n",
    "    .dropDuplicates([\"name\"]) \\\n",
    "    .select(\"name\", \"email\")\\\n",
    "    .withColumnRenamed(\"email\", \"_key\")\n",
    "\n",
    "git_contributor = git_contributor.filter(git_contributor[\"_key\"] != \"\")\n",
    "git_contributor.printSchema()"
   ]
  },
  {
   "cell_type": "markdown",
   "metadata": {},
   "source": [
    "### Writing the nodes in the graph"
   ]
  },
  {
   "cell_type": "code",
   "execution_count": null,
   "metadata": {},
   "outputs": [],
   "source": [
    "options = get_default_options(SparkConnector.ARANGO)\n",
    "options[\"table.type\"] = \"document\"\n",
    "options[\"table\"] = \"GitCommit\"\n",
    "options[\"createCollection\"] = \"true\"\n",
    "\n",
    "spark_write(SparkConnector.ARANGO, git_commits, \"Overwrite\", options=options)"
   ]
  },
  {
   "cell_type": "code",
   "execution_count": null,
   "metadata": {},
   "outputs": [],
   "source": [
    "options = get_default_options(SparkConnector.ARANGO)\n",
    "options[\"table.type\"] = \"document\"\n",
    "options[\"table\"] = \"GitRepository\"\n",
    "options[\"createCollection\"] = \"true\"\n",
    "\n",
    "spark_write(SparkConnector.ARANGO, git_repositories, \"Overwrite\", options=options)"
   ]
  },
  {
   "cell_type": "code",
   "execution_count": null,
   "metadata": {},
   "outputs": [],
   "source": [
    "options = get_default_options(SparkConnector.ARANGO)\n",
    "options[\"table.type\"] = \"document\"\n",
    "options[\"table\"] = \"GitContributor\"\n",
    "options[\"createCollection\"] = \"true\"\n",
    "\n",
    "spark_write(SparkConnector.ARANGO, git_contributor, \"Overwrite\", options=options)"
   ]
  },
  {
   "cell_type": "code",
   "execution_count": null,
   "metadata": {},
   "outputs": [],
   "source": [
    "options = get_default_options(SparkConnector.ARANGO)\n",
    "options[\"table.type\"] = \"document\"\n",
    "options[\"table\"] = \"GitLanguage\"\n",
    "options[\"createCollection\"] = \"true\"\n",
    "\n",
    "spark_write(SparkConnector.ARANGO, git_languages, \"Overwrite\", options=options)"
   ]
  },
  {
   "cell_type": "code",
   "execution_count": null,
   "metadata": {},
   "outputs": [],
   "source": [
    "options = get_default_options(SparkConnector.ARANGO)\n",
    "options[\"table.type\"] = \"document\"\n",
    "options[\"table\"] = \"GitLicense\"\n",
    "options[\"createCollection\"] = \"true\"\n",
    "\n",
    "spark_write(SparkConnector.ARANGO, git_licenses, \"Overwrite\", options=options)"
   ]
  },
  {
   "cell_type": "markdown",
   "metadata": {},
   "source": [
    "### Writing the relationships in the graph"
   ]
  },
  {
   "cell_type": "code",
   "execution_count": null,
   "metadata": {},
   "outputs": [],
   "source": [
    "edges_df = commits.select(\"commit\", \"repo\")\\\n",
    "                .withColumnRenamed(\"commit\", \"_from\")\\\n",
    "                .withColumnRenamed(\"repo\", \"_to\")\\\n",
    "                .withColumn(\"_to\", remove_udf(\"_to\"))\n",
    "edges_pd_df = edges_df.to_pandas_on_spark()\n",
    "edges_pd_df[\"_from\"] = \"GitCommit/\" + edges_pd_df[\"_from\"]\n",
    "edges_pd_df[\"_to\"] = \"GitRepository/\" + edges_pd_df[\"_to\"]\n",
    "belongs_to_df = edges_pd_df.to_spark()\n",
    "belongs_to_df = set_df_columns_nullable(session, belongs_to_df, [\"_from\", \"_to\"], False)\n",
    "belongs_to_df.printSchema()"
   ]
  },
  {
   "cell_type": "code",
   "execution_count": null,
   "metadata": {},
   "outputs": [],
   "source": [
    "edges_df = commits.select(\"commit\", \"repo\")\\\n",
    "    .withColumnRenamed(\"repo\", \"_from\")\\\n",
    "    .withColumnRenamed(\"commit\", \"_to\")\\\n",
    "    .withColumn(\"_from\", remove_udf(\"_from\"))\n",
    "edges_pd_df = edges_df.to_pandas_on_spark()\n",
    "edges_pd_df[\"_from\"] = \"GitRepository/\" + edges_pd_df[\"_from\"]\n",
    "edges_pd_df[\"_to\"] = \"GitCommit/\" + edges_pd_df[\"_to\"]\n",
    "contains_df = edges_pd_df.to_spark()\n",
    "contains_df = set_df_columns_nullable(session, contains_df, [\"_from\", \"_to\"], False)\n",
    "contains_df.printSchema()"
   ]
  },
  {
   "cell_type": "code",
   "execution_count": null,
   "metadata": {},
   "outputs": [],
   "source": [
    "edges_df = commits.select(\"commit\", \"parent\") \\\n",
    "    .withColumn(\"parent\", F.explode(commits[\"parent\"])) \\\n",
    "    .withColumnRenamed(\"commit\", \"_from\")\\\n",
    "    .withColumnRenamed(\"parent\", \"_to\")\\\n",
    "    .dropDuplicates([\"_from\", \"_to\"])\n",
    "\n",
    "edges_pd_df = edges_df.to_pandas_on_spark()\n",
    "edges_pd_df[\"_from\"] = \"GitCommit/\" + edges_pd_df[\"_from\"]\n",
    "edges_pd_df[\"_to\"] = \"GitCommit/\" + edges_pd_df[\"_to\"]\n",
    "\n",
    "parent_df = edges_pd_df.to_spark()\n",
    "parent_df = set_df_columns_nullable(session, parent_df, [\"_from\", \"_to\"], False)\n",
    "parent_df.printSchema()"
   ]
  },
  {
   "cell_type": "code",
   "execution_count": null,
   "metadata": {},
   "outputs": [],
   "source": [
    "edges_df = licences.select(\"repo_name\", \"license\") \\\n",
    "    .dropDuplicates([\"repo_name\", \"license\"]) \\\n",
    "    .withColumnRenamed(\"repo_name\", \"_from\")\\\n",
    "    .withColumnRenamed(\"license\", \"_to\")\\\n",
    "    .dropDuplicates([\"_from\", \"_to\"])\n",
    "    \n",
    "edges_pd_df = edges_df.to_pandas_on_spark()\n",
    "edges_pd_df[\"_from\"] = \"GitRepository/\" + edges_pd_df[\"_from\"]\n",
    "edges_pd_df[\"_to\"] = \"GitLicense/\" + edges_pd_df[\"_to\"]\n",
    "\n",
    "\n",
    "has_df = edges_pd_df.to_spark()\n",
    "has_df = set_df_columns_nullable(session, has_df, [\"_from\", \"_to\"], False)\n",
    "has_df.printSchema()"
   ]
  },
  {
   "cell_type": "code",
   "execution_count": null,
   "metadata": {},
   "outputs": [],
   "source": [
    "edges_df = commits.select(commits[\"author_email\"].alias(\"email\"), \"commit\", \"author.date.seconds\") \\\n",
    "    .withColumnRenamed(\"seconds\", \"ts\")\n",
    "edges_df = edges_df \\\n",
    "    .filter(edges_df[\"email\"] != \"\") \\\n",
    "    .withColumn(\"ts\", edges_df[\"ts\"].cast(T.IntegerType())) \\\n",
    "    .withColumnRenamed(\"email\", \"_from\")\\\n",
    "    .withColumnRenamed(\"commit\", \"_to\")\\\n",
    "    .dropDuplicates([\"_from\", \"_to\"])\n",
    "\n",
    "edges_pd_df = edges_df.to_pandas_on_spark()\n",
    "edges_pd_df[\"_from\"] = \"GitContributor/\" + edges_pd_df[\"_from\"]\n",
    "edges_pd_df[\"_to\"] = \"GitCommit/\" + edges_pd_df[\"_to\"]\n",
    "\n",
    "\n",
    "author_df = edges_pd_df.to_spark()\n",
    "author_df = set_df_columns_nullable(session, author_df, [\"_from\", \"_to\"], False)\n",
    "author_df.printSchema()"
   ]
  },
  {
   "cell_type": "code",
   "execution_count": null,
   "metadata": {},
   "outputs": [],
   "source": [
    "edges_df = commits.select(commits[\"committer_email\"].alias(\"email\"), \"commit\", \"committer.date.seconds\") \\\n",
    "    .withColumnRenamed(\"seconds\", \"ts\")\n",
    "edges_df = edges_df \\\n",
    "    .filter(edges_df[\"email\"] != \"\") \\\n",
    "    .withColumn(\"ts\", edges_df[\"ts\"].cast(T.IntegerType())) \\\n",
    "    .withColumnRenamed(\"email\", \"_from\")\\\n",
    "    .withColumnRenamed(\"commit\", \"_to\")\\\n",
    "    .dropDuplicates([\"_from\", \"_to\"])\n",
    "\n",
    "edges_pd_df = edges_df.to_pandas_on_spark()\n",
    "edges_pd_df[\"_from\"] = \"GitContributor/\" + edges_pd_df[\"_from\"]\n",
    "edges_pd_df[\"_to\"] = \"GitCommit/\" + edges_pd_df[\"_to\"]\n",
    "\n",
    "\n",
    "committed_df = edges_pd_df.to_spark()\n",
    "committed_df = set_df_columns_nullable(session, committed_df, [\"_from\", \"_to\"], False)\n",
    "committed_df.printSchema()"
   ]
  },
  {
   "cell_type": "code",
   "execution_count": null,
   "metadata": {},
   "outputs": [],
   "source": [
    "edges_df = languages.withColumn(\"lang\", F.explode(languages[\"language\"]))\n",
    "edges_df = edges_df \\\n",
    "    .withColumn(\"language\", edges_df[\"lang.name\"]) \\\n",
    "    .withColumn(\"bytes\", edges_df[\"lang.bytes\"].cast(T.IntegerType())) \\\n",
    "    .select(\"repo_name\", \"language\", \"bytes\") \\\n",
    "    .withColumnRenamed(\"repo_name\", \"_from\")\\\n",
    "    .withColumnRenamed(\"language\", \"_to\")\\\n",
    "    .dropDuplicates([\"_from\", \"_to\"])\n",
    "\n",
    "edges_df = edges_df.withColumn(\"_to\", remove_c_sharp(edges_df[\"_to\"]))\n",
    "\n",
    "edges_pd_df = edges_df.to_pandas_on_spark()\n",
    "edges_pd_df[\"_from\"] = \"GitRepository/\" + edges_pd_df[\"_from\"]\n",
    "edges_pd_df[\"_to\"] = \"GitLanguage/\" + edges_pd_df[\"_to\"]\n",
    "\n",
    "\n",
    "writted_in_df = edges_pd_df.to_spark()\n",
    "writted_in_df = set_df_columns_nullable(session, writted_in_df, [\"_from\", \"_to\"], False)\n",
    "writted_in_df.printSchema()"
   ]
  },
  {
   "cell_type": "code",
   "execution_count": null,
   "metadata": {},
   "outputs": [],
   "source": [
    "options = get_default_options(SparkConnector.ARANGO)\n",
    "options[\"table.type\"] = \"edge\"\n",
    "options[\"table\"] = \"BELONGS_TO\"\n",
    "options[\"createCollection\"] = \"true\"\n",
    "\n",
    "spark_write(SparkConnector.ARANGO, belongs_to_df, \"Overwrite\", options=options)\n"
   ]
  },
  {
   "cell_type": "code",
   "execution_count": null,
   "metadata": {},
   "outputs": [],
   "source": [
    "options = get_default_options(SparkConnector.ARANGO)\n",
    "options[\"table.type\"] = \"edge\"\n",
    "options[\"table\"] = \"CONTAINS\"\n",
    "options[\"createCollection\"] = \"true\"\n",
    "\n",
    "spark_write(SparkConnector.ARANGO, contains_df, \"Overwrite\", options=options)\n"
   ]
  },
  {
   "cell_type": "code",
   "execution_count": null,
   "metadata": {},
   "outputs": [],
   "source": [
    "options = get_default_options(SparkConnector.ARANGO)\n",
    "options[\"table.type\"] = \"edge\"\n",
    "options[\"table\"] = \"PARENT\"\n",
    "options[\"createCollection\"] = \"true\"\n",
    "\n",
    "spark_write(SparkConnector.ARANGO, parent_df, \"Overwrite\", options=options)"
   ]
  },
  {
   "cell_type": "code",
   "execution_count": null,
   "metadata": {},
   "outputs": [],
   "source": [
    "options = get_default_options(SparkConnector.ARANGO)\n",
    "options[\"table.type\"] = \"edge\"\n",
    "options[\"table\"] = \"HAS\"\n",
    "options[\"createCollection\"] = \"true\"\n",
    "\n",
    "spark_write(SparkConnector.ARANGO, has_df, \"Overwrite\", options=options)"
   ]
  },
  {
   "cell_type": "code",
   "execution_count": null,
   "metadata": {},
   "outputs": [],
   "source": [
    "options = get_default_options(SparkConnector.ARANGO)\n",
    "options[\"table.type\"] = \"edge\"\n",
    "options[\"table\"] = \"AUTHOR\"\n",
    "options[\"createCollection\"] = \"true\"\n",
    "\n",
    "spark_write(SparkConnector.ARANGO, author_df, \"Append\", options=options)"
   ]
  },
  {
   "cell_type": "code",
   "execution_count": null,
   "metadata": {},
   "outputs": [],
   "source": [
    "options = get_default_options(SparkConnector.ARANGO)\n",
    "options[\"table.type\"] = \"edge\"\n",
    "options[\"table\"] = \"COMMITTED\"\n",
    "options[\"createCollection\"] = \"true\"\n",
    "\n",
    "spark_write(SparkConnector.ARANGO, committed_df, \"Overwrite\", options=options)"
   ]
  },
  {
   "cell_type": "code",
   "execution_count": null,
   "metadata": {},
   "outputs": [],
   "source": [
    "options = get_default_options(SparkConnector.ARANGO)\n",
    "options[\"table.type\"] = \"edge\"\n",
    "options[\"table\"] = \"WRITTEN_IN\"\n",
    "options[\"createCollection\"] = \"true\"\n",
    "\n",
    "spark_write(SparkConnector.ARANGO, writted_in_df, \"Overwrite\", options=options)"
   ]
  },
  {
   "cell_type": "markdown",
   "metadata": {},
   "source": [
    "### Stop spark context and spark session"
   ]
  },
  {
   "cell_type": "code",
   "execution_count": null,
   "metadata": {},
   "outputs": [],
   "source": [
    "session.sparkContext.stop()\n",
    "session.stop()"
   ]
  }
 ],
 "metadata": {
  "kernelspec": {
   "display_name": "Python 3 (ipykernel)",
   "language": "python",
   "name": "python3"
  },
  "language_info": {
   "codemirror_mode": {
    "name": "ipython",
    "version": 3
   },
   "file_extension": ".py",
   "mimetype": "text/x-python",
   "name": "python",
   "nbconvert_exporter": "python",
   "pygments_lexer": "ipython3",
   "version": "3.7.12"
  }
 },
 "nbformat": 4,
 "nbformat_minor": 4
}
