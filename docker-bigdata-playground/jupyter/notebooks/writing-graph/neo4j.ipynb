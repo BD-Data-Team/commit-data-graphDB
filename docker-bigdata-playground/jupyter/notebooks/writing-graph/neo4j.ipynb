{
 "cells": [
  {
   "cell_type": "code",
   "execution_count": 1,
   "metadata": {},
   "outputs": [],
   "source": [
    "import os, sys\n",
    "\n",
    "fileDir = os.getcwd()\n",
    "path = os.path.join(fileDir, \"..\")\n",
    "sys.path.append(path)\n",
    "\n",
    "from utilities import *\n",
    "import pyspark.sql.functions as F"
   ]
  },
  {
   "cell_type": "code",
   "execution_count": 2,
   "metadata": {},
   "outputs": [
    {
     "name": "stdout",
     "output_type": "stream",
     "text": [
      "Added dependencies: \n",
      " ['neo4j-connector-apache-spark_2.12-5.0.1_for_spark_3.jar']\n"
     ]
    }
   ],
   "source": [
    "session = create_spark_session(\"Neo4j GitHub\", SparkConnector.NEO4J)"
   ]
  },
  {
   "cell_type": "code",
   "execution_count": 3,
   "metadata": {},
   "outputs": [],
   "source": [
    "common_URI = \"hdfs://namenode:9000//data-team/\""
   ]
  },
  {
   "cell_type": "code",
   "execution_count": 4,
   "metadata": {},
   "outputs": [],
   "source": [
    "#files = session.read.json(f\"{common_URI}files.json\")\n",
    "#files.printSchema()"
   ]
  },
  {
   "cell_type": "code",
   "execution_count": 5,
   "metadata": {},
   "outputs": [
    {
     "name": "stdout",
     "output_type": "stream",
     "text": [
      "root\n",
      " |-- language: array (nullable = true)\n",
      " |    |-- element: struct (containsNull = true)\n",
      " |    |    |-- bytes: string (nullable = true)\n",
      " |    |    |-- name: string (nullable = true)\n",
      " |-- repo_name: string (nullable = true)\n",
      "\n"
     ]
    }
   ],
   "source": [
    "languages = session.read.json(f\"{common_URI}languages.json\")\n",
    "languages.printSchema()"
   ]
  },
  {
   "cell_type": "code",
   "execution_count": 6,
   "metadata": {},
   "outputs": [
    {
     "name": "stdout",
     "output_type": "stream",
     "text": [
      "root\n",
      " |-- license: string (nullable = true)\n",
      " |-- repo_name: string (nullable = true)\n",
      "\n"
     ]
    }
   ],
   "source": [
    "licences = session.read.json(f\"{common_URI}licenses.json\")\n",
    "licences.printSchema()"
   ]
  },
  {
   "cell_type": "code",
   "execution_count": 7,
   "metadata": {},
   "outputs": [],
   "source": [
    "#commits = session.read.json(f\"{common_URI}commits.json\")\n",
    "#commits.printSchema()"
   ]
  },
  {
   "cell_type": "code",
   "execution_count": 8,
   "metadata": {},
   "outputs": [],
   "source": [
    "#git_commits= commits.select(\"commit\", \"subject\", \"message\", \"committer.date\", \"author.date\")"
   ]
  },
  {
   "cell_type": "code",
   "execution_count": 9,
   "metadata": {},
   "outputs": [],
   "source": [
    "#newColumns = [\"id\",\"title\",\"message\",\"committer_date\", \"author_date\"]\n",
    "#git_commits=git_commits.toDF(*newColumns)\n",
    "#git_commits.printSchema()"
   ]
  },
  {
   "cell_type": "code",
   "execution_count": 10,
   "metadata": {},
   "outputs": [],
   "source": [
    "#repositories = commits.select(\"repo_name\")\n",
    "#repositories = repositories.withColumn(\"name\",F.explode(commits.repo_name)).select(\"name\")\n",
    "#repositories.printSchema()"
   ]
  },
  {
   "cell_type": "code",
   "execution_count": 11,
   "metadata": {},
   "outputs": [
    {
     "name": "stdout",
     "output_type": "stream",
     "text": [
      "root\n",
      " |-- name: string (nullable = true)\n",
      "\n"
     ]
    }
   ],
   "source": [
    "git_languages = languages.withColumn(\"name\",F.explode(languages[\"language.name\"])).select(\"name\")\n",
    "git_languages.printSchema()"
   ]
  },
  {
   "cell_type": "code",
   "execution_count": 12,
   "metadata": {},
   "outputs": [
    {
     "name": "stdout",
     "output_type": "stream",
     "text": [
      "root\n",
      " |-- name: string (nullable = true)\n",
      "\n"
     ]
    }
   ],
   "source": [
    "git_licenses = licences.select(\"license\").withColumnRenamed(\"license\",\"name\")\n",
    "git_licenses.printSchema()"
   ]
  },
  {
   "cell_type": "code",
   "execution_count": 13,
   "metadata": {},
   "outputs": [],
   "source": [
    "#git_files = files.select(\"id\",\"ref\",\"path\",\"mode\",\"symlink_target\")\n",
    "#git_files.printSchema()"
   ]
  },
  {
   "cell_type": "code",
   "execution_count": 14,
   "metadata": {},
   "outputs": [
    {
     "name": "stdout",
     "output_type": "stream",
     "text": [
      "Dataframe saved to NEO4J\n"
     ]
    }
   ],
   "source": [
    "options = get_default_options(SparkConnector.NEO4J)\n",
    "\n",
    "options[\"node.keys\"] = \"name\"\n",
    "options[\"labels\"] = \":GitLanguage\"\n",
    "\n",
    "spark_write(SparkConnector.NEO4J, git_languages, \"Overwrite\", options=options)"
   ]
  },
  {
   "cell_type": "code",
   "execution_count": 15,
   "metadata": {},
   "outputs": [
    {
     "name": "stdout",
     "output_type": "stream",
     "text": [
      "Dataframe saved to NEO4J\n"
     ]
    }
   ],
   "source": [
    "options = get_default_options(SparkConnector.NEO4J)\n",
    "\n",
    "options[\"node.keys\"] = \"name\"\n",
    "options[\"labels\"] = \":GitLicense\"\n",
    "\n",
    "spark_write(SparkConnector.NEO4J, git_licenses, \"Overwrite\", options=options)"
   ]
  },
  {
   "cell_type": "code",
   "execution_count": 16,
   "metadata": {},
   "outputs": [],
   "source": [
    "#options = get_default_options(SparkConnector.NEO4J)\n",
    "\n",
    "#options[\"node.keys\"] = \"id\"\n",
    "#options[\"labels\"] = \":GitFile\"\n",
    "\n",
    "#spark_write(SparkConnector.NEO4J, git_files, \"Overwrite\", options=options)"
   ]
  },
  {
   "cell_type": "code",
   "execution_count": 17,
   "metadata": {},
   "outputs": [],
   "source": [
    "#options = get_default_options(SparkConnector.NEO4J)\n",
    "\n",
    "#options[\"node.keys\"] = \"id\"\n",
    "#options[\"labels\"] = \":GitCommit\"\n",
    "\n",
    "#spark_write(SparkConnector.NEO4J, git_commits, \"Overwrite\", options=options)"
   ]
  },
  {
   "cell_type": "code",
   "execution_count": null,
   "metadata": {},
   "outputs": [],
   "source": []
  },
  {
   "cell_type": "code",
   "execution_count": null,
   "metadata": {},
   "outputs": [],
   "source": []
  }
 ],
 "metadata": {
  "kernelspec": {
   "display_name": "Python 3 (ipykernel)",
   "language": "python",
   "name": "python3"
  },
  "language_info": {
   "codemirror_mode": {
    "name": "ipython",
    "version": 3
   },
   "file_extension": ".py",
   "mimetype": "text/x-python",
   "name": "python",
   "nbconvert_exporter": "python",
   "pygments_lexer": "ipython3",
   "version": "3.7.12"
  }
 },
 "nbformat": 4,
 "nbformat_minor": 4
}
