{
 "cells": [
  {
   "cell_type": "code",
   "execution_count": 1,
   "metadata": {},
   "outputs": [],
   "source": [
    "import os, sys\n",
    "\n",
    "fileDir = os.getcwd()\n",
    "path = os.path.join(fileDir, \"..\")\n",
    "sys.path.append(path)\n",
    "\n",
    "from utilities import *"
   ]
  },
  {
   "cell_type": "code",
   "execution_count": 2,
   "metadata": {},
   "outputs": [
    {
     "name": "stdout",
     "output_type": "stream",
     "text": [
      "Added dependencies: \n",
      " ['neo4j-connector-apache-spark_2.12-5.0.1_for_spark_3.jar']\n"
     ]
    }
   ],
   "source": [
    "session = create_spark_session(\"Neo4j GitHub\", SparkConnector.NEO4J)"
   ]
  },
  {
   "cell_type": "code",
   "execution_count": 3,
   "metadata": {},
   "outputs": [],
   "source": [
    "common_URI = \"hdfs://namenode:9000//data-team/\""
   ]
  },
  {
   "cell_type": "code",
   "execution_count": 4,
   "metadata": {},
   "outputs": [],
   "source": [
    "files = session.read.json(f\"{common_URI}files.json\")"
   ]
  },
  {
   "cell_type": "code",
   "execution_count": 5,
   "metadata": {},
   "outputs": [
    {
     "name": "stdout",
     "output_type": "stream",
     "text": [
      "root\n",
      " |-- id: string (nullable = true)\n",
      " |-- mode: string (nullable = true)\n",
      " |-- path: string (nullable = true)\n",
      " |-- ref: string (nullable = true)\n",
      " |-- repo_name: string (nullable = true)\n",
      " |-- symlink_target: string (nullable = true)\n",
      "\n"
     ]
    }
   ],
   "source": [
    "files.printSchema()"
   ]
  },
  {
   "cell_type": "code",
   "execution_count": 6,
   "metadata": {},
   "outputs": [],
   "source": [
    "languages = session.read.json(f\"{common_URI}languages.json\")"
   ]
  },
  {
   "cell_type": "code",
   "execution_count": 7,
   "metadata": {},
   "outputs": [
    {
     "name": "stdout",
     "output_type": "stream",
     "text": [
      "root\n",
      " |-- language: array (nullable = true)\n",
      " |    |-- element: struct (containsNull = true)\n",
      " |    |    |-- bytes: string (nullable = true)\n",
      " |    |    |-- name: string (nullable = true)\n",
      " |-- repo_name: string (nullable = true)\n",
      "\n"
     ]
    }
   ],
   "source": [
    "languages.printSchema()"
   ]
  },
  {
   "cell_type": "code",
   "execution_count": 8,
   "metadata": {},
   "outputs": [],
   "source": [
    "licences = session.read.json(f\"{common_URI}licenses.json\")"
   ]
  },
  {
   "cell_type": "code",
   "execution_count": 9,
   "metadata": {},
   "outputs": [
    {
     "name": "stdout",
     "output_type": "stream",
     "text": [
      "root\n",
      " |-- license: string (nullable = true)\n",
      " |-- repo_name: string (nullable = true)\n",
      "\n"
     ]
    }
   ],
   "source": [
    "licences.printSchema()"
   ]
  },
  {
   "cell_type": "code",
   "execution_count": 10,
   "metadata": {},
   "outputs": [],
   "source": [
    "commits = session.read.json(f\"{common_URI}commits.json\")"
   ]
  },
  {
   "cell_type": "code",
   "execution_count": 11,
   "metadata": {},
   "outputs": [
    {
     "name": "stdout",
     "output_type": "stream",
     "text": [
      "+--------------------+--------------------+--------------------+----------+--------------------+--------+--------------------+--------------------+--------------------+--------------------+--------------------+--------------------+\n",
      "|              author|              commit|           committer|difference|difference_truncated|encoding|             message|              parent|           repo_name|             subject|             trailer|                tree|\n",
      "+--------------------+--------------------+--------------------+----------+--------------------+--------+--------------------+--------------------+--------------------+--------------------+--------------------+--------------------+\n",
      "|{{1212055973}, 24...|a564f169dcbd8bd65...|{{1212055973}, 24...|        []|                null|    null|Check in new vers...|[af9132054ca3c08a...|[moses-smt/mosesd...|Check in new vers...|[{da2bf3b6971b326...|4b825dc642cb6eb9a...|\n",
      "|{{1335874805}, 6f...|01c04e4f313c9d2b0...|{{1335874805}, 6f...|        []|                null|    null|Share project \"Vi...|[40106797cf09f5df...|[lagadic/visp, s-...|Share project \"Vi...|                  []|305625e04e6e457ad...|\n",
      "|{{1212758489}, a9...|ab3d3bada13599676...|{{1212758489}, a9...|        []|                null|    null|Add some svn:igno...|[39ab0e042dfa9af2...|[xwiki/xwiki-plat...| Add some svn:ignore|[{cfa2b40e478804c...|9ccbef761467a3cfe...|\n",
      "|{{1145493097}, 61...|1d2ff062d93614d4e...|{{1145493097}, 61...|        []|                null|    null|larger font-size ...|[c5955c1e0f9d8587...|         [nltk/nltk]|larger font-size ...|                  []|0b82496a21acb2825...|\n",
      "|{{1210949354}, 00...|824999e72702a58af...|{{1210949354}, 00...|        []|                null|    null|PBCandidateGenera...|[fb427f33c7028e63...|[moses-smt/mosesd...|PBCandidateGenera...|[{da2bf3b6971b326...|4b825dc642cb6eb9a...|\n",
      "|{{1596404130}, ec...|9a0ac86b79ec81252...|{{1596404130}, ec...|        []|                null|    null|Automatic merge f...|[e440a463c95005ca...|   [FreeRDP/Remmina]|Automatic merge f...|                  []|4a406772ab1f2dead...|\n",
      "|{{1203308132}, 9f...|398c690f2535e386c...|{{1203308132}, 9f...|        []|                null|    null|2008-02-18  David...|[b14f3ab882bf9577...|[jfree/jfreechart...|2008-02-18  David...|                  []|426eaef4bab9cc315...|\n",
      "|{{1258545301}, 53...|fcd907bf09a7e93b2...|{{1258545301}, 53...|        []|                null|    null|unknown word labe...|[ab8df2b669ebec0b...|[moses-smt/mosesd...|unknown word labe...|[{da2bf3b6971b326...|4b825dc642cb6eb9a...|\n",
      "|{{1209473196}, bc...|b0b59ab28dec87750...|{{1209473196}, bc...|        []|                null|    null|Converted into tw...|[5deaa776f282c84a...|         [nltk/nltk]|Converted into tw...|                  []|5e314f63edd6b38a3...|\n",
      "|{{1383168702}, 60...|f98795e8ae7b839c8...|{{1383168702}, 60...|        []|                null|    null|Merge branch 'mas...|[cf87174cfbe10526...|[plotly/plotly.js...|Merge branch 'mas...|                  []|b6f155a24ff87a268...|\n",
      "+--------------------+--------------------+--------------------+----------+--------------------+--------+--------------------+--------------------+--------------------+--------------------+--------------------+--------------------+\n",
      "only showing top 10 rows\n",
      "\n"
     ]
    }
   ],
   "source": [
    "commits.show(10)"
   ]
  },
  {
   "cell_type": "code",
   "execution_count": 12,
   "metadata": {},
   "outputs": [
    {
     "name": "stdout",
     "output_type": "stream",
     "text": [
      "root\n",
      " |-- author: struct (nullable = true)\n",
      " |    |-- date: struct (nullable = true)\n",
      " |    |    |-- seconds: string (nullable = true)\n",
      " |    |-- email: string (nullable = true)\n",
      " |    |-- name: string (nullable = true)\n",
      " |    |-- time_sec: string (nullable = true)\n",
      " |    |-- tz_offset: string (nullable = true)\n",
      " |-- commit: string (nullable = true)\n",
      " |-- committer: struct (nullable = true)\n",
      " |    |-- date: struct (nullable = true)\n",
      " |    |    |-- seconds: string (nullable = true)\n",
      " |    |-- email: string (nullable = true)\n",
      " |    |-- name: string (nullable = true)\n",
      " |    |-- time_sec: string (nullable = true)\n",
      " |    |-- tz_offset: string (nullable = true)\n",
      " |-- difference: array (nullable = true)\n",
      " |    |-- element: struct (containsNull = true)\n",
      " |    |    |-- new_mode: string (nullable = true)\n",
      " |    |    |-- new_path: string (nullable = true)\n",
      " |    |    |-- new_repo: string (nullable = true)\n",
      " |    |    |-- new_sha1: string (nullable = true)\n",
      " |    |    |-- old_mode: string (nullable = true)\n",
      " |    |    |-- old_path: string (nullable = true)\n",
      " |    |    |-- old_repo: string (nullable = true)\n",
      " |    |    |-- old_sha1: string (nullable = true)\n",
      " |-- difference_truncated: boolean (nullable = true)\n",
      " |-- encoding: string (nullable = true)\n",
      " |-- message: string (nullable = true)\n",
      " |-- parent: array (nullable = true)\n",
      " |    |-- element: string (containsNull = true)\n",
      " |-- repo_name: array (nullable = true)\n",
      " |    |-- element: string (containsNull = true)\n",
      " |-- subject: string (nullable = true)\n",
      " |-- trailer: array (nullable = true)\n",
      " |    |-- element: struct (containsNull = true)\n",
      " |    |    |-- email: string (nullable = true)\n",
      " |    |    |-- key: string (nullable = true)\n",
      " |    |    |-- value: string (nullable = true)\n",
      " |-- tree: string (nullable = true)\n",
      "\n"
     ]
    }
   ],
   "source": [
    "commits.printSchema()"
   ]
  },
  {
   "cell_type": "code",
   "execution_count": 13,
   "metadata": {},
   "outputs": [],
   "source": [
    "duplicates = commits.where(commits[\"committer.date.seconds\"] != commits[\"author.date.seconds\"])"
   ]
  },
  {
   "cell_type": "code",
   "execution_count": 17,
   "metadata": {},
   "outputs": [],
   "source": [
    "git_commits= commits.select(\"commit\", \"subject\", \"message\", \"committer.date\", \"author.date\")"
   ]
  },
  {
   "cell_type": "code",
   "execution_count": 18,
   "metadata": {},
   "outputs": [
    {
     "name": "stdout",
     "output_type": "stream",
     "text": [
      "root\n",
      " |-- id: string (nullable = true)\n",
      " |-- title: string (nullable = true)\n",
      " |-- message: string (nullable = true)\n",
      " |-- committer_date: struct (nullable = true)\n",
      " |    |-- seconds: string (nullable = true)\n",
      " |-- author_date: struct (nullable = true)\n",
      " |    |-- seconds: string (nullable = true)\n",
      "\n"
     ]
    }
   ],
   "source": [
    "newColumns = [\"id\",\"title\",\"message\",\"committer_date\", \"author_date\"]\n",
    "git_commits=git_commits.toDF(*newColumns)\n",
    "git_commits.printSchema()"
   ]
  },
  {
   "cell_type": "code",
   "execution_count": null,
   "metadata": {},
   "outputs": [],
   "source": []
  }
 ],
 "metadata": {
  "kernelspec": {
   "display_name": "Python 3 (ipykernel)",
   "language": "python",
   "name": "python3"
  },
  "language_info": {
   "codemirror_mode": {
    "name": "ipython",
    "version": 3
   },
   "file_extension": ".py",
   "mimetype": "text/x-python",
   "name": "python",
   "nbconvert_exporter": "python",
   "pygments_lexer": "ipython3",
   "version": "3.7.12"
  }
 },
 "nbformat": 4,
 "nbformat_minor": 4
}
