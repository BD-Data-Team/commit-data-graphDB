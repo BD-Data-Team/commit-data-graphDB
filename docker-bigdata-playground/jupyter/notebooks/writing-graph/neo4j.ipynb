{
 "cells": [
  {
   "cell_type": "markdown",
   "metadata": {},
   "source": [
    "## Importing library and creating spark-session"
   ]
  },
  {
   "cell_type": "code",
   "execution_count": 1,
   "metadata": {},
   "outputs": [],
   "source": [
    "import sys\n",
    "fileDir = \"/home/jovyan/notebooks/\"\n",
    "sys.path.append(fileDir)\n",
    "\n",
    "from utilities import *\n",
    "import pyspark.sql.functions as F\n",
    "import pyspark.sql.types as T"
   ]
  },
  {
   "cell_type": "code",
   "execution_count": 2,
   "metadata": {},
   "outputs": [
    {
     "name": "stdout",
     "output_type": "stream",
     "text": [
      "Added dependencies: \n",
      " ['neo4j-connector-apache-spark_2.12-5.0.1_for_spark_3.jar']\n"
     ]
    }
   ],
   "source": [
    "session = create_spark_session(\"Neo4j GitHub\", SparkConnector.NEO4J)"
   ]
  },
  {
   "cell_type": "code",
   "execution_count": 3,
   "metadata": {},
   "outputs": [],
   "source": [
    "HDFS_URL = \"hdfs://namenode:9000//data-team\"\n",
    "PREFIX = \"sample_\" # or \"\""
   ]
  },
  {
   "cell_type": "markdown",
   "metadata": {},
   "source": [
    "### Reading from HDFS"
   ]
  },
  {
   "cell_type": "code",
   "execution_count": 4,
   "metadata": {},
   "outputs": [
    {
     "name": "stdout",
     "output_type": "stream",
     "text": [
      "root\n",
      " |-- repo_name: string (nullable = true)\n",
      " |-- watch_count: string (nullable = true)\n",
      "\n"
     ]
    }
   ],
   "source": [
    "repositories = session.read.json(f\"{HDFS_URL}/{PREFIX}repositories.json\") # cambia se ti serve il dataset completo\n",
    "repositories.printSchema()"
   ]
  },
  {
   "cell_type": "code",
   "execution_count": 5,
   "metadata": {},
   "outputs": [
    {
     "name": "stdout",
     "output_type": "stream",
     "text": [
      "root\n",
      " |-- language: array (nullable = true)\n",
      " |    |-- element: struct (containsNull = true)\n",
      " |    |    |-- bytes: string (nullable = true)\n",
      " |    |    |-- name: string (nullable = true)\n",
      " |-- repo_name: string (nullable = true)\n",
      "\n"
     ]
    }
   ],
   "source": [
    "languages = session.read.json(f\"{HDFS_URL}/{PREFIX}languages.json\")\n",
    "languages.printSchema()"
   ]
  },
  {
   "cell_type": "code",
   "execution_count": 6,
   "metadata": {},
   "outputs": [
    {
     "name": "stdout",
     "output_type": "stream",
     "text": [
      "root\n",
      " |-- license: string (nullable = true)\n",
      " |-- repo_name: string (nullable = true)\n",
      "\n"
     ]
    }
   ],
   "source": [
    "licences = session.read.json(f\"{HDFS_URL}/{PREFIX}licences.json\")\n",
    "licences.printSchema()"
   ]
  },
  {
   "cell_type": "code",
   "execution_count": 7,
   "metadata": {},
   "outputs": [
    {
     "name": "stdout",
     "output_type": "stream",
     "text": [
      "root\n",
      " |-- id: string (nullable = true)\n",
      " |-- mode: string (nullable = true)\n",
      " |-- path: string (nullable = true)\n",
      " |-- ref: string (nullable = true)\n",
      " |-- repo_name: string (nullable = true)\n",
      " |-- symlink_target: string (nullable = true)\n",
      "\n"
     ]
    }
   ],
   "source": [
    "files = session.read.json(f\"{HDFS_URL}/{PREFIX}files.json\")\n",
    "files.printSchema()"
   ]
  },
  {
   "cell_type": "code",
   "execution_count": 8,
   "metadata": {},
   "outputs": [
    {
     "name": "stdout",
     "output_type": "stream",
     "text": [
      "root\n",
      " |-- author: struct (nullable = true)\n",
      " |    |-- date: struct (nullable = true)\n",
      " |    |    |-- seconds: string (nullable = true)\n",
      " |    |-- email: string (nullable = true)\n",
      " |    |-- name: string (nullable = true)\n",
      " |    |-- time_sec: string (nullable = true)\n",
      " |    |-- tz_offset: string (nullable = true)\n",
      " |-- commit: string (nullable = true)\n",
      " |-- committer: struct (nullable = true)\n",
      " |    |-- date: struct (nullable = true)\n",
      " |    |    |-- seconds: string (nullable = true)\n",
      " |    |-- email: string (nullable = true)\n",
      " |    |-- name: string (nullable = true)\n",
      " |    |-- time_sec: string (nullable = true)\n",
      " |    |-- tz_offset: string (nullable = true)\n",
      " |-- difference: array (nullable = true)\n",
      " |    |-- element: struct (containsNull = true)\n",
      " |    |    |-- new_mode: string (nullable = true)\n",
      " |    |    |-- new_path: string (nullable = true)\n",
      " |    |    |-- new_repo: string (nullable = true)\n",
      " |    |    |-- new_sha1: string (nullable = true)\n",
      " |    |    |-- old_mode: string (nullable = true)\n",
      " |    |    |-- old_path: string (nullable = true)\n",
      " |    |    |-- old_sha1: string (nullable = true)\n",
      " |-- message: string (nullable = true)\n",
      " |-- parent: array (nullable = true)\n",
      " |    |-- element: string (containsNull = true)\n",
      " |-- repo: string (nullable = true)\n",
      " |-- repo_name: array (nullable = true)\n",
      " |    |-- element: string (containsNull = true)\n",
      " |-- subject: string (nullable = true)\n",
      " |-- trailer: array (nullable = true)\n",
      " |    |-- element: struct (containsNull = true)\n",
      " |    |    |-- email: string (nullable = true)\n",
      " |    |    |-- key: string (nullable = true)\n",
      " |    |    |-- value: string (nullable = true)\n",
      " |-- tree: string (nullable = true)\n",
      "\n"
     ]
    }
   ],
   "source": [
    "commits = session.read.json(f\"{HDFS_URL}/{PREFIX}commits.json\") # cambia se ti serve il dataset completo\n",
    "commits.printSchema()"
   ]
  },
  {
   "cell_type": "markdown",
   "metadata": {},
   "source": [
    "## Data Processing"
   ]
  },
  {
   "cell_type": "code",
   "execution_count": null,
   "metadata": {},
   "outputs": [],
   "source": [
    "git_commits = commits.select(\"commit\", \"subject\", \"message\", \"committer.date.seconds\", \"author.date.seconds\")\n",
    "\n",
    "newColumns = [\"id\",\"title\",\"message\",\"committer_date\",\"author_date\"]\n",
    "git_commits = git_commits.toDF(*newColumns)\n",
    "git_commits.printSchema()"
   ]
  },
  {
   "cell_type": "code",
   "execution_count": null,
   "metadata": {},
   "outputs": [],
   "source": [
    "git_repositories = repositories.withColumnRenamed(\"repo_name\", \"name\")\n",
    "git_repositories.printSchema()"
   ]
  },
  {
   "cell_type": "code",
   "execution_count": null,
   "metadata": {},
   "outputs": [],
   "source": [
    "git_languages = languages.withColumn(\"name\", F.explode(languages[\"language.name\"])).dropDuplicates([\"name\"]).select(\"name\")\n",
    "git_languages.printSchema()"
   ]
  },
  {
   "cell_type": "code",
   "execution_count": null,
   "metadata": {},
   "outputs": [],
   "source": [
    "git_licenses = licences.select(\"license\").withColumnRenamed(\"license\",\"name\").dropDuplicates([\"name\"])\n",
    "git_licenses.printSchema()"
   ]
  },
  {
   "cell_type": "code",
   "execution_count": null,
   "metadata": {},
   "outputs": [],
   "source": [
    "git_files = files.select(\"id\",\"ref\",\"path\",\"mode\",\"symlink_target\")\n",
    "git_files.printSchema()"
   ]
  },
  {
   "cell_type": "code",
   "execution_count": null,
   "metadata": {},
   "outputs": [],
   "source": [
    "git_contributor = commits.select(\"author.*\") \\\n",
    "    .union(commits.select(\"committer.*\")) \\\n",
    "    .dropDuplicates([\"name\"]) \\\n",
    "    .select(\"name\",\"email\")\n",
    "git_contributor.printSchema()"
   ]
  },
  {
   "cell_type": "markdown",
   "metadata": {},
   "source": [
    "## Writing the nodes in the graph"
   ]
  },
  {
   "cell_type": "code",
   "execution_count": null,
   "metadata": {},
   "outputs": [],
   "source": [
    "options = get_default_options(SparkConnector.NEO4J)\n",
    "\n",
    "options[\"node.keys\"] = \"name\"\n",
    "options[\"labels\"] = \":GitRepository\"\n",
    "\n",
    "spark_write(SparkConnector.NEO4J, git_repositories, \"Append\", options=options)"
   ]
  },
  {
   "cell_type": "code",
   "execution_count": null,
   "metadata": {},
   "outputs": [],
   "source": [
    "options = get_default_options(SparkConnector.NEO4J)\n",
    "\n",
    "options[\"node.keys\"] = \"email\"\n",
    "options[\"labels\"] = \":GitContributor\"\n",
    "\n",
    "spark_write(SparkConnector.NEO4J, git_contributor, \"Append\", options=options)"
   ]
  },
  {
   "cell_type": "code",
   "execution_count": null,
   "metadata": {},
   "outputs": [],
   "source": [
    "options = get_default_options(SparkConnector.NEO4J)\n",
    "\n",
    "options[\"node.keys\"] = \"name\"\n",
    "options[\"labels\"] = \":GitLanguage\"\n",
    "\n",
    "spark_write(SparkConnector.NEO4J, git_languages, \"Append\", options=options)"
   ]
  },
  {
   "cell_type": "code",
   "execution_count": null,
   "metadata": {},
   "outputs": [],
   "source": [
    "options = get_default_options(SparkConnector.NEO4J)\n",
    "\n",
    "options[\"node.keys\"] = \"name\"\n",
    "options[\"labels\"] = \":GitLicense\"\n",
    "\n",
    "spark_write(SparkConnector.NEO4J, git_licenses, \"Append\", options=options)"
   ]
  },
  {
   "cell_type": "code",
   "execution_count": null,
   "metadata": {},
   "outputs": [],
   "source": [
    "options = get_default_options(SparkConnector.NEO4J)\n",
    "\n",
    "options[\"node.keys\"] = \"id\"\n",
    "options[\"labels\"] = \":GitFile\"\n",
    "\n",
    "spark_write(SparkConnector.NEO4J, git_files, \"Append\", options=options)"
   ]
  },
  {
   "cell_type": "code",
   "execution_count": null,
   "metadata": {},
   "outputs": [],
   "source": [
    "options = get_default_options(SparkConnector.NEO4J)\n",
    "\n",
    "options[\"node.keys\"] = \"id\"\n",
    "options[\"labels\"] = \":GitCommit\"\n",
    "\n",
    "spark_write(SparkConnector.NEO4J, git_commits, \"Append\", options=options)"
   ]
  },
  {
   "cell_type": "markdown",
   "metadata": {},
   "source": [
    "### Writing the relationships in the graph"
   ]
  },
  {
   "cell_type": "code",
   "execution_count": 9,
   "metadata": {},
   "outputs": [
    {
     "name": "stdout",
     "output_type": "stream",
     "text": [
      "root\n",
      " |-- commit: string (nullable = true)\n",
      " |-- repo: string (nullable = true)\n",
      "\n"
     ]
    }
   ],
   "source": [
    "belongs_to = commits.select(\"commit\",\"repo\")\n",
    "belongs_to.printSchema()"
   ]
  },
  {
   "cell_type": "code",
   "execution_count": null,
   "metadata": {},
   "outputs": [],
   "source": [
    "stays_in = files.select(\"id\",\"repo_name\") \\\n",
    "    .dropDuplicates([\"id\",\"repo_name\"])\n",
    "belongs_to.printSchema()"
   ]
  },
  {
   "cell_type": "code",
   "execution_count": null,
   "metadata": {},
   "outputs": [],
   "source": [
    "parent = commits.select(\"commit\", \"parent\") \\\n",
    "    .withColumn(\"parent\", F.explode(commits[\"parent\"])) \\\n",
    "    .dropDuplicates([\"commit\",\"parent\"])\n",
    "parent.printSchema()"
   ]
  },
  {
   "cell_type": "code",
   "execution_count": null,
   "metadata": {},
   "outputs": [],
   "source": [
    "has = licences.select(\"repo_name\", \"license\") \\\n",
    "    .dropDuplicates([\"repo_name\", \"license\"])\n",
    "has.printSchema()"
   ]
  },
  {
   "cell_type": "code",
   "execution_count": null,
   "metadata": {},
   "outputs": [],
   "source": [
    "author = commits.select(\"author.email\", \"commit\", \"author.date.seconds\") \\\n",
    "    .withColumnRenamed(\"seconds\",\"ts\")\n",
    "author = author \\\n",
    "    .filter(author[\"email\"] != \"\") \\\n",
    "    .withColumn(\"ts\", author[\"ts\"].cast(T.IntegerType())) \\\n",
    "    .dropDuplicates([\"email\",\"commit\"])\n",
    "author.printSchema()"
   ]
  },
  {
   "cell_type": "code",
   "execution_count": null,
   "metadata": {},
   "outputs": [],
   "source": [
    "committed = commits.select(\"committer.email\", \"commit\", \"committer.date.seconds\") \\\n",
    "    .withColumnRenamed(\"seconds\",\"ts\") \n",
    "committed = committed \\\n",
    "    .filter(committed[\"email\"]!=\"\") \\\n",
    "    .withColumn(\"ts\", committed[\"ts\"].cast(T.IntegerType())) \\\n",
    "    .dropDuplicates([\"email\",\"commit\"])\n",
    "committed.printSchema()"
   ]
  },
  {
   "cell_type": "code",
   "execution_count": null,
   "metadata": {},
   "outputs": [],
   "source": [
    "writted_in = languages.withColumn(\"lang\", F.explode(languages[\"language\"]))\n",
    "writted_in = writted_in \\\n",
    "    .withColumn(\"language\", writted_in[\"lang.name\"]) \\\n",
    "    .withColumn(\"bytes\", writted_in[\"lang.bytes\"].cast(T.IntegerType())) \\\n",
    "    .select(\"repo_name\", \"language\", \"bytes\")\n",
    "\n",
    "writted_in.printSchema()"
   ]
  },
  {
   "cell_type": "code",
   "execution_count": null,
   "metadata": {},
   "outputs": [],
   "source": [
    "options = get_default_options(SparkConnector.NEO4J)\n",
    "\n",
    "options[\"relationship\"] = \"BELONGS_TO\"\n",
    "options[\"relationship.save.strategy\"] = \"keys\"\n",
    "\n",
    "options[\"relationship.source.labels\"] = \"GitCommit\"\n",
    "options[\"relationship.source.node.keys\"] = \"commit:id\"\n",
    "options[\"relationship.source.save.mode\"] = \"Match\"\n",
    "\n",
    "options[\"relationship.target.labels\"] = \"GitRepository\"\n",
    "options[\"relationship.target.node.keys\"] = \"repo:name\"\n",
    "options[\"relationship.target.save.mode\"] = \"Match\"\n",
    "\n",
    "spark_write(SparkConnector.NEO4J, belongs_to, \"Append\", options=options)"
   ]
  },
  {
   "cell_type": "code",
   "execution_count": null,
   "metadata": {},
   "outputs": [],
   "source": [
    "options = get_default_options(SparkConnector.NEO4J)\n",
    "\n",
    "options[\"relationship\"] = \"STAYS_IN\"\n",
    "options[\"relationship.save.strategy\"] = \"keys\"\n",
    "\n",
    "options[\"relationship.source.labels\"] = \"GitFile\"\n",
    "options[\"relationship.source.node.keys\"] = \"id:id\"\n",
    "options[\"relationship.source.save.mode\"] = \"Match\"\n",
    "\n",
    "options[\"relationship.target.labels\"] = \"GitRepository\"\n",
    "options[\"relationship.target.node.keys\"] = \"repo_name:name\"\n",
    "options[\"relationship.target.save.mode\"] = \"Match\"\n",
    "\n",
    "spark_write(SparkConnector.NEO4J, stays_in, \"Append\", options=options)"
   ]
  },
  {
   "cell_type": "code",
   "execution_count": null,
   "metadata": {},
   "outputs": [],
   "source": [
    "options = get_default_options(SparkConnector.NEO4J)\n",
    "\n",
    "options[\"relationship\"] = \"PARENT\"\n",
    "options[\"relationship.save.strategy\"] = \"keys\"\n",
    "\n",
    "options[\"relationship.source.labels\"] = \"GitCommit\"\n",
    "options[\"relationship.source.node.keys\"] = \"commit:id\"\n",
    "options[\"relationship.source.save.mode\"] = \"Match\"\n",
    "\n",
    "options[\"relationship.target.labels\"] = \"GitCommit\"\n",
    "options[\"relationship.target.node.keys\"] = \"parent:id\"\n",
    "options[\"relationship.target.save.mode\"] = \"Match\"\n",
    "\n",
    "spark_write(SparkConnector.NEO4J, parent, \"Append\", options=options)"
   ]
  },
  {
   "cell_type": "code",
   "execution_count": null,
   "metadata": {},
   "outputs": [],
   "source": [
    "options = get_default_options(SparkConnector.NEO4J)\n",
    "\n",
    "options[\"relationship\"] = \"HAS\"\n",
    "options[\"relationship.save.strategy\"] = \"keys\"\n",
    "\n",
    "options[\"relationship.source.labels\"] = \"GitRepository\"\n",
    "options[\"relationship.source.node.keys\"] = \"repo_name:name\"\n",
    "options[\"relationship.source.save.mode\"] = \"Match\"\n",
    "\n",
    "options[\"relationship.target.labels\"] = \"GitLicense\"\n",
    "options[\"relationship.target.node.keys\"] = \"license:name\"\n",
    "options[\"relationship.target.save.mode\"] = \"Match\"\n",
    "\n",
    "spark_write(SparkConnector.NEO4J, has, \"Append\", options=options)"
   ]
  },
  {
   "cell_type": "code",
   "execution_count": null,
   "metadata": {},
   "outputs": [],
   "source": [
    "options = get_default_options(SparkConnector.NEO4J)\n",
    "\n",
    "options[\"relationship\"] = \"AUTHOR\"\n",
    "options[\"relationship.save.strategy\"] = \"keys\"\n",
    "options[\"reletionship.ts\"] = \"ts\"\n",
    "\n",
    "options[\"relationship.source.labels\"] = \"GitContributor\"\n",
    "options[\"relationship.source.node.keys\"] = \"email:email\"\n",
    "options[\"relationship.source.save.mode\"] = \"Match\"\n",
    "\n",
    "options[\"relationship.target.labels\"] = \"GitCommit\"\n",
    "options[\"relationship.target.node.keys\"] = \"commit:id\"\n",
    "options[\"relationship.target.save.mode\"] = \"Match\"\n",
    "\n",
    "spark_write(SparkConnector.NEO4J, author, \"Append\", options=options)"
   ]
  },
  {
   "cell_type": "code",
   "execution_count": null,
   "metadata": {},
   "outputs": [],
   "source": [
    "options = get_default_options(SparkConnector.NEO4J)\n",
    "\n",
    "options[\"relationship\"] = \"COMMITTED\"\n",
    "options[\"relationship.save.strategy\"] = \"keys\"\n",
    "options[\"reletionship.ts\"] = \"ts\"\n",
    "\n",
    "options[\"relationship.source.labels\"] = \"GitContributor\"\n",
    "options[\"relationship.source.node.keys\"] = \"email:email\"\n",
    "options[\"relationship.source.save.mode\"] = \"Match\"\n",
    "\n",
    "options[\"relationship.target.labels\"] = \"GitCommit\"\n",
    "options[\"relationship.target.node.keys\"] = \"commit:id\"\n",
    "options[\"relationship.target.save.mode\"] = \"Match\"\n",
    "\n",
    "spark_write(SparkConnector.NEO4J, committed, \"Append\", options=options)"
   ]
  },
  {
   "cell_type": "code",
   "execution_count": null,
   "metadata": {},
   "outputs": [],
   "source": [
    "options = get_default_options(SparkConnector.NEO4J)\n",
    "\n",
    "options[\"relationship\"] = \"WRITTED_IN\"\n",
    "options[\"relationship.save.strategy\"] = \"keys\"\n",
    "options[\"relationship.bytes\"] = \"bytes\"\n",
    "\n",
    "options[\"relationship.source.labels\"] = \"GitRepository\"\n",
    "options[\"relationship.source.node.keys\"] = \"repo_name:name\"\n",
    "options[\"relationship.source.save.mode\"] = \"Match\"\n",
    "\n",
    "options[\"relationship.target.labels\"] = \"GitLanguage\"\n",
    "options[\"relationship.target.node.keys\"] = \"language:name\"\n",
    "options[\"relationship.target.save.mode\"] = \"Match\"\n",
    "\n",
    "spark_write(SparkConnector.NEO4J, writted_in, \"Append\", options=options)"
   ]
  },
  {
   "cell_type": "markdown",
   "metadata": {},
   "source": [
    "## Stop spark context and spark session"
   ]
  },
  {
   "cell_type": "code",
   "execution_count": null,
   "metadata": {},
   "outputs": [],
   "source": [
    "session.sparkContext.stop()\n",
    "session.stop()"
   ]
  }
 ],
 "metadata": {
  "kernelspec": {
   "display_name": "Python 3 (ipykernel)",
   "language": "python",
   "name": "python3"
  }
 },
 "nbformat": 4,
 "nbformat_minor": 4
}
