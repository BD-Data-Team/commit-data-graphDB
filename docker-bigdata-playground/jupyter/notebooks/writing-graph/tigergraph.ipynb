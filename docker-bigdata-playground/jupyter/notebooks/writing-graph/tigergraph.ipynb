{
 "cells": [
  {
   "cell_type": "markdown",
   "metadata": {},
   "source": [
    "## Importing library and creating spark-session"
   ]
  },
  {
   "cell_type": "code",
   "execution_count": 1,
   "metadata": {},
   "outputs": [],
   "source": [
    "import sys\n",
    "fileDir = \"/home/jovyan/notebooks/\"\n",
    "sys.path.append(fileDir)\n",
    "\n",
    "from utilities import *\n",
    "import pyspark.sql.types as T\n",
    "import pyspark.sql.functions as F"
   ]
  },
  {
   "cell_type": "code",
   "execution_count": 2,
   "metadata": {},
   "outputs": [
    {
     "name": "stdout",
     "output_type": "stream",
     "text": [
      "Added dependencies: \n",
      " ['postgresql-42.5.0.jar', 'tigergraph-jdbc-driver-1.3.6.jar']\n"
     ]
    }
   ],
   "source": [
    "session = create_spark_session(\"Tigergraph GitHub\", SparkConnector.TIGERGRAPH)"
   ]
  },
  {
   "cell_type": "code",
   "execution_count": 3,
   "metadata": {},
   "outputs": [],
   "source": [
    "HDFS_URL = \"hdfs://namenode:9000//data-team\"\n",
    "PREFIX = \"sample_\" # or \"\""
   ]
  },
  {
   "cell_type": "markdown",
   "metadata": {},
   "source": [
    "### Reading from HDFS"
   ]
  },
  {
   "cell_type": "code",
   "execution_count": 4,
   "metadata": {},
   "outputs": [
    {
     "name": "stdout",
     "output_type": "stream",
     "text": [
      "root\n",
      " |-- repo_name: string (nullable = true)\n",
      " |-- watch_count: string (nullable = true)\n",
      "\n"
     ]
    }
   ],
   "source": [
    "repositories = session.read.json(f\"{HDFS_URL}/{PREFIX}repositories.json\") # cambia se ti serve il dataset completo\n",
    "repositories.printSchema()"
   ]
  },
  {
   "cell_type": "code",
   "execution_count": 5,
   "metadata": {},
   "outputs": [
    {
     "name": "stdout",
     "output_type": "stream",
     "text": [
      "root\n",
      " |-- language: array (nullable = true)\n",
      " |    |-- element: struct (containsNull = true)\n",
      " |    |    |-- bytes: string (nullable = true)\n",
      " |    |    |-- name: string (nullable = true)\n",
      " |-- repo_name: string (nullable = true)\n",
      "\n"
     ]
    }
   ],
   "source": [
    "languages = session.read.json(f\"{HDFS_URL}/{PREFIX}languages.json\")\n",
    "languages.printSchema()"
   ]
  },
  {
   "cell_type": "code",
   "execution_count": 6,
   "metadata": {},
   "outputs": [
    {
     "name": "stdout",
     "output_type": "stream",
     "text": [
      "root\n",
      " |-- license: string (nullable = true)\n",
      " |-- repo_name: string (nullable = true)\n",
      "\n"
     ]
    }
   ],
   "source": [
    "licences = session.read.json(f\"{HDFS_URL}/{PREFIX}licences.json\")\n",
    "licences.printSchema()"
   ]
  },
  {
   "cell_type": "code",
   "execution_count": 7,
   "metadata": {},
   "outputs": [
    {
     "name": "stdout",
     "output_type": "stream",
     "text": [
      "root\n",
      " |-- id: string (nullable = true)\n",
      " |-- mode: string (nullable = true)\n",
      " |-- path: string (nullable = true)\n",
      " |-- ref: string (nullable = true)\n",
      " |-- repo_name: string (nullable = true)\n",
      " |-- symlink_target: string (nullable = true)\n",
      "\n"
     ]
    }
   ],
   "source": [
    "files = session.read.json(f\"{HDFS_URL}/{PREFIX}files.json\")\n",
    "files.printSchema()"
   ]
  },
  {
   "cell_type": "code",
   "execution_count": 8,
   "metadata": {},
   "outputs": [
    {
     "name": "stdout",
     "output_type": "stream",
     "text": [
      "root\n",
      " |-- author: struct (nullable = true)\n",
      " |    |-- date: struct (nullable = true)\n",
      " |    |    |-- seconds: string (nullable = true)\n",
      " |    |-- email: string (nullable = true)\n",
      " |    |-- name: string (nullable = true)\n",
      " |    |-- time_sec: string (nullable = true)\n",
      " |    |-- tz_offset: string (nullable = true)\n",
      " |-- commit: string (nullable = true)\n",
      " |-- committer: struct (nullable = true)\n",
      " |    |-- date: struct (nullable = true)\n",
      " |    |    |-- seconds: string (nullable = true)\n",
      " |    |-- email: string (nullable = true)\n",
      " |    |-- name: string (nullable = true)\n",
      " |    |-- time_sec: string (nullable = true)\n",
      " |    |-- tz_offset: string (nullable = true)\n",
      " |-- difference: array (nullable = true)\n",
      " |    |-- element: struct (containsNull = true)\n",
      " |    |    |-- new_mode: string (nullable = true)\n",
      " |    |    |-- new_path: string (nullable = true)\n",
      " |    |    |-- new_repo: string (nullable = true)\n",
      " |    |    |-- new_sha1: string (nullable = true)\n",
      " |    |    |-- old_mode: string (nullable = true)\n",
      " |    |    |-- old_path: string (nullable = true)\n",
      " |    |    |-- old_repo: string (nullable = true)\n",
      " |    |    |-- old_sha1: string (nullable = true)\n",
      " |-- encoding: string (nullable = true)\n",
      " |-- message: string (nullable = true)\n",
      " |-- parent: array (nullable = true)\n",
      " |    |-- element: string (containsNull = true)\n",
      " |-- repo: string (nullable = true)\n",
      " |-- repo_name: array (nullable = true)\n",
      " |    |-- element: string (containsNull = true)\n",
      " |-- subject: string (nullable = true)\n",
      " |-- trailer: array (nullable = true)\n",
      " |    |-- element: struct (containsNull = true)\n",
      " |    |    |-- email: string (nullable = true)\n",
      " |    |    |-- key: string (nullable = true)\n",
      " |    |    |-- value: string (nullable = true)\n",
      " |-- tree: string (nullable = true)\n",
      "\n"
     ]
    }
   ],
   "source": [
    "commits = session.read.json(f\"{HDFS_URL}/{PREFIX}commits.json\") # cambia se ti serve il dataset completo\n",
    "commits.printSchema()"
   ]
  },
  {
   "cell_type": "markdown",
   "metadata": {},
   "source": [
    "## Data Processing"
   ]
  },
  {
   "cell_type": "code",
   "execution_count": 9,
   "metadata": {},
   "outputs": [
    {
     "name": "stdout",
     "output_type": "stream",
     "text": [
      "root\n",
      " |-- v_id: string (nullable = true)\n",
      " |-- title: string (nullable = true)\n",
      " |-- message: string (nullable = true)\n",
      " |-- committer_date: string (nullable = true)\n",
      " |-- author_date: string (nullable = true)\n",
      "\n"
     ]
    }
   ],
   "source": [
    "git_commits = commits.select(\"commit\", \"subject\", \"message\", \"committer.date.seconds\", \"author.date.seconds\")\n",
    "\n",
    "newColumns = [\"v_id\",\"title\",\"message\",\"committer_date\", \"author_date\"]\n",
    "git_commits = git_commits.toDF(*newColumns)\n",
    "\n",
    "git_commits.printSchema()"
   ]
  },
  {
   "cell_type": "code",
   "execution_count": 10,
   "metadata": {},
   "outputs": [
    {
     "name": "stdout",
     "output_type": "stream",
     "text": [
      "root\n",
      " |-- v_id: string (nullable = true)\n",
      " |-- watch_count: integer (nullable = true)\n",
      "\n"
     ]
    }
   ],
   "source": [
    "git_repositories = repositories.withColumnRenamed(\"repo_name\", \"v_id\")\n",
    "git_repositories = git_repositories.withColumn(\"watch_count\", git_repositories[\"watch_count\"].cast(T.IntegerType()))\n",
    "git_repositories.printSchema()"
   ]
  },
  {
   "cell_type": "code",
   "execution_count": 11,
   "metadata": {},
   "outputs": [
    {
     "name": "stdout",
     "output_type": "stream",
     "text": [
      "root\n",
      " |-- v_id: string (nullable = true)\n",
      "\n"
     ]
    }
   ],
   "source": [
    "git_languages = languages.withColumn(\"v_id\", F.explode(languages[\"language.name\"])).dropDuplicates([\"v_id\"]).select(\"v_id\")\n",
    "git_languages.printSchema()"
   ]
  },
  {
   "cell_type": "code",
   "execution_count": 12,
   "metadata": {},
   "outputs": [
    {
     "name": "stdout",
     "output_type": "stream",
     "text": [
      "root\n",
      " |-- v_id: string (nullable = true)\n",
      "\n"
     ]
    }
   ],
   "source": [
    "git_licenses = licences.select(\"license\").withColumnRenamed(\"license\",\"v_id\").dropDuplicates([\"v_id\"])\n",
    "git_licenses.printSchema()"
   ]
  },
  {
   "cell_type": "code",
   "execution_count": 13,
   "metadata": {},
   "outputs": [
    {
     "name": "stdout",
     "output_type": "stream",
     "text": [
      "root\n",
      " |-- v_id: string (nullable = true)\n",
      " |-- reference: string (nullable = true)\n",
      " |-- path: string (nullable = true)\n",
      " |-- mode: integer (nullable = true)\n",
      " |-- symlink_target: string (nullable = true)\n",
      "\n"
     ]
    }
   ],
   "source": [
    "git_files = files.select(\"id\",\"ref\",\"path\",\"mode\",\"symlink_target\")\n",
    "git_files = git_files.withColumnRenamed(\"id\",\"v_id\") \\\n",
    "    .withColumnRenamed(\"ref\",\"reference\") \\\n",
    "    .withColumn(\"mode\", git_files[\"mode\"].cast(T.IntegerType()))\n",
    "\n",
    "git_files.printSchema()"
   ]
  },
  {
   "cell_type": "code",
   "execution_count": 21,
   "metadata": {},
   "outputs": [
    {
     "name": "stdout",
     "output_type": "stream",
     "text": [
      "root\n",
      " |-- v_id: string (nullable = true)\n",
      " |-- name: string (nullable = true)\n",
      "\n"
     ]
    }
   ],
   "source": [
    "git_contributor = commits.select(\"author.*\") \\\n",
    "    .union(commits.select(\"committer.*\")) \\\n",
    "    .dropDuplicates([\"email\"])\n",
    "git_contributor = git_contributor.select(\"email\",\"name\") \\\n",
    "    .filter(git_contributor[\"email\"]!=\"\") \\\n",
    "    .withColumnRenamed(\"email\",\"v_id\")\n",
    "git_contributor.printSchema()"
   ]
  },
  {
   "cell_type": "markdown",
   "metadata": {},
   "source": [
    "## Writing the nodes in the graph"
   ]
  },
  {
   "cell_type": "code",
   "execution_count": 15,
   "metadata": {},
   "outputs": [
    {
     "name": "stdout",
     "output_type": "stream",
     "text": [
      "Dataframe saved to TIGERGRAPH\n"
     ]
    }
   ],
   "source": [
    "options = get_default_options(SparkConnector.TIGERGRAPH)\n",
    "\n",
    "options[\"dbtable\"] = \"vertex GitRepository\"\n",
    "\n",
    "spark_write(SparkConnector.TIGERGRAPH, git_repositories, \"Append\", options=options)"
   ]
  },
  {
   "cell_type": "code",
   "execution_count": 22,
   "metadata": {},
   "outputs": [
    {
     "name": "stdout",
     "output_type": "stream",
     "text": [
      "Dataframe saved to TIGERGRAPH\n"
     ]
    }
   ],
   "source": [
    "options = get_default_options(SparkConnector.TIGERGRAPH)\n",
    "\n",
    "options[\"dbtable\"] = \"vertex GitContributor\"\n",
    "\n",
    "spark_write(SparkConnector.TIGERGRAPH, git_contributor, \"Append\", options=options)"
   ]
  },
  {
   "cell_type": "code",
   "execution_count": 23,
   "metadata": {},
   "outputs": [
    {
     "name": "stdout",
     "output_type": "stream",
     "text": [
      "Dataframe saved to TIGERGRAPH\n"
     ]
    }
   ],
   "source": [
    "options = get_default_options(SparkConnector.TIGERGRAPH)\n",
    "\n",
    "options[\"dbtable\"] = \"vertex GitLanguage\"\n",
    "\n",
    "spark_write(SparkConnector.TIGERGRAPH, git_languages, \"Append\", options=options)"
   ]
  },
  {
   "cell_type": "code",
   "execution_count": 24,
   "metadata": {},
   "outputs": [
    {
     "name": "stdout",
     "output_type": "stream",
     "text": [
      "Dataframe saved to TIGERGRAPH\n"
     ]
    }
   ],
   "source": [
    "options = get_default_options(SparkConnector.TIGERGRAPH)\n",
    "\n",
    "options[\"dbtable\"] = \"vertex GitLicense\"\n",
    "\n",
    "spark_write(SparkConnector.TIGERGRAPH, git_licenses, \"Append\", options=options)"
   ]
  },
  {
   "cell_type": "code",
   "execution_count": 25,
   "metadata": {},
   "outputs": [
    {
     "name": "stdout",
     "output_type": "stream",
     "text": [
      "Dataframe saved to TIGERGRAPH\n"
     ]
    }
   ],
   "source": [
    "options = get_default_options(SparkConnector.TIGERGRAPH)\n",
    "\n",
    "options[\"dbtable\"] = \"vertex GitFile\"\n",
    "\n",
    "spark_write(SparkConnector.TIGERGRAPH, git_files, \"Append\", options=options)"
   ]
  },
  {
   "cell_type": "code",
   "execution_count": 26,
   "metadata": {},
   "outputs": [
    {
     "name": "stdout",
     "output_type": "stream",
     "text": [
      "Dataframe saved to TIGERGRAPH\n"
     ]
    }
   ],
   "source": [
    "options = get_default_options(SparkConnector.TIGERGRAPH)\n",
    "\n",
    "options[\"dbtable\"] = \"vertex GitCommit\"\n",
    "\n",
    "spark_write(SparkConnector.TIGERGRAPH, git_commits, \"Append\", options=options)"
   ]
  },
  {
   "cell_type": "markdown",
   "metadata": {},
   "source": [
    "## Writing the relationships in the graph"
   ]
  },
  {
   "cell_type": "code",
   "execution_count": 27,
   "metadata": {},
   "outputs": [
    {
     "name": "stdout",
     "output_type": "stream",
     "text": [
      "root\n",
      " |-- GitCommit: string (nullable = true)\n",
      " |-- GitRepository: string (nullable = true)\n",
      "\n"
     ]
    }
   ],
   "source": [
    "belongs_to = commits.select(\"commit\",\"repo\") \\\n",
    "    .withColumnRenamed(\"commit\",\"GitCommit\") \\\n",
    "    .withColumnRenamed(\"repo\",\"GitRepository\")\n",
    "belongs_to.printSchema()"
   ]
  },
  {
   "cell_type": "code",
   "execution_count": 28,
   "metadata": {},
   "outputs": [
    {
     "name": "stdout",
     "output_type": "stream",
     "text": [
      "root\n",
      " |-- GitCommit: string (nullable = true)\n",
      " |-- GitRepository: string (nullable = true)\n",
      "\n"
     ]
    }
   ],
   "source": [
    "stays_in = files.select(\"id\",\"repo_name\") \\\n",
    "    .withColumnRenamed(\"id\",\"GitFile\") \\\n",
    "    .withColumnRenamed(\"repo_name\",\"GitRepository\") \\\n",
    "    .dropDuplicates([\"GitFile\",\"GitRepository\"])\n",
    "belongs_to.printSchema()"
   ]
  },
  {
   "cell_type": "code",
   "execution_count": 29,
   "metadata": {},
   "outputs": [
    {
     "name": "stdout",
     "output_type": "stream",
     "text": [
      "root\n",
      " |-- GitCommit: string (nullable = true)\n",
      " |-- GitCommit: string (nullable = true)\n",
      "\n"
     ]
    }
   ],
   "source": [
    "parent = commits.select(\"commit\", \"parent\") \\\n",
    "    .withColumn(\"parent\", F.explode(commits[\"parent\"])) \\\n",
    "    .withColumnRenamed(\"commit\",\"GitCommit\") \\\n",
    "    .withColumnRenamed(\"parent\",\"GitCommit\")\\\n",
    "    .dropDuplicates([\"GitCommit\",\"GitCommit\"])\n",
    "parent.printSchema()"
   ]
  },
  {
   "cell_type": "code",
   "execution_count": 32,
   "metadata": {},
   "outputs": [
    {
     "name": "stdout",
     "output_type": "stream",
     "text": [
      "root\n",
      " |-- GitFile: string (nullable = true)\n",
      " |-- GitRepository: string (nullable = true)\n",
      "\n"
     ]
    }
   ],
   "source": [
    "stays_in = files.select(\"id\",\"repo_name\") \\\n",
    "    .withColumnRenamed(\"id\",\"GitFile\") \\\n",
    "    .withColumnRenamed(\"repo_name\",\"GitRepository\") \\\n",
    "    .dropDuplicates([\"GitFile\",\"GitRepository\"])\n",
    "stays_in.printSchema()"
   ]
  },
  {
   "cell_type": "code",
   "execution_count": 33,
   "metadata": {},
   "outputs": [
    {
     "name": "stdout",
     "output_type": "stream",
     "text": [
      "root\n",
      " |-- GitRepository: string (nullable = true)\n",
      " |-- GitLicense: string (nullable = true)\n",
      "\n"
     ]
    }
   ],
   "source": [
    "has = licences.select(\"repo_name\", \"license\") \\\n",
    "    .withColumnRenamed(\"repo_name\",\"GitRepository\") \\\n",
    "    .withColumnRenamed(\"license\",\"GitLicense\")\\\n",
    "    .dropDuplicates([\"GitRepository\",\"GitLicense\"])\n",
    "has.printSchema()"
   ]
  },
  {
   "cell_type": "code",
   "execution_count": 45,
   "metadata": {},
   "outputs": [
    {
     "name": "stdout",
     "output_type": "stream",
     "text": [
      "root\n",
      " |-- GitContributor: string (nullable = true)\n",
      " |-- GitCommit: string (nullable = true)\n",
      " |-- ts: integer (nullable = true)\n",
      "\n"
     ]
    }
   ],
   "source": [
    "author = commits.select(\"author.email\", \"commit\", \"author.date.seconds\") \\\n",
    "    .withColumnRenamed(\"email\",\"GitContributor\") \\\n",
    "    .withColumnRenamed(\"commit\",\"GitCommit\") \\\n",
    "    .withColumnRenamed(\"seconds\",\"ts\") \n",
    "author = author \\\n",
    "    .filter(author[\"GitContributor\"]!=\"\") \\\n",
    "    .withColumn(\"ts\", author[\"ts\"].cast(T.IntegerType())) \\\n",
    "    .dropDuplicates([\"GitContributor\",\"GitCommit\"])\n",
    "author.printSchema()"
   ]
  },
  {
   "cell_type": "code",
   "execution_count": 50,
   "metadata": {},
   "outputs": [
    {
     "name": "stdout",
     "output_type": "stream",
     "text": [
      "root\n",
      " |-- GitContributor: string (nullable = true)\n",
      " |-- GitCommit: string (nullable = true)\n",
      " |-- ts: integer (nullable = true)\n",
      "\n"
     ]
    }
   ],
   "source": [
    "committed = commits.select(\"committer.email\", \"commit\", \"committer.date.seconds\") \\\n",
    "    .withColumnRenamed(\"email\",\"GitContributor\") \\\n",
    "    .withColumnRenamed(\"commit\",\"GitCommit\") \\\n",
    "    .withColumnRenamed(\"seconds\",\"ts\") \n",
    "committed = committed \\\n",
    "    .filter(committed[\"GitContributor\"]!=\"\") \\\n",
    "    .withColumn(\"ts\", committed[\"ts\"].cast(T.IntegerType())) \\\n",
    "    .dropDuplicates([\"GitContributor\",\"GitCommit\"])\n",
    "committed.printSchema()"
   ]
  },
  {
   "cell_type": "code",
   "execution_count": 74,
   "metadata": {},
   "outputs": [
    {
     "name": "stdout",
     "output_type": "stream",
     "text": [
      "root\n",
      " |-- GitRepository: string (nullable = true)\n",
      " |-- GitLanguage: string (nullable = true)\n",
      " |-- bytes: integer (nullable = true)\n",
      "\n"
     ]
    }
   ],
   "source": [
    "writted_in = languages.withColumn(\"language\", F.explode(languages[\"language\"]))\n",
    "writted_in = writted_in \\\n",
    "    .withColumn(\"GitLanguage\", writted_in[\"language.name\"]) \\\n",
    "    .withColumn(\"bytes\", writted_in[\"language.bytes\"].cast(T.IntegerType())) \\\n",
    "    .withColumnRenamed(\"repo_name\", \"GitRepository\") \\\n",
    "    .select(\"GitRepository\", \"GitLanguage\", \"bytes\")\n",
    "\n",
    "writted_in.printSchema()"
   ]
  },
  {
   "cell_type": "markdown",
   "metadata": {},
   "source": [
    "## Writing relations between nodes in the graph"
   ]
  },
  {
   "cell_type": "code",
   "execution_count": 53,
   "metadata": {},
   "outputs": [
    {
     "name": "stdout",
     "output_type": "stream",
     "text": [
      "Dataframe saved to TIGERGRAPH\n"
     ]
    }
   ],
   "source": [
    "options = get_default_options(SparkConnector.TIGERGRAPH)\n",
    "\n",
    "options[\"dbtable\"] = \"edge BELONGS_TO\"\n",
    "\n",
    "spark_write(SparkConnector.TIGERGRAPH, belongs_to, \"Append\", options=options)"
   ]
  },
  {
   "cell_type": "code",
   "execution_count": 54,
   "metadata": {},
   "outputs": [
    {
     "name": "stdout",
     "output_type": "stream",
     "text": [
      "Dataframe saved to TIGERGRAPH\n"
     ]
    }
   ],
   "source": [
    "options = get_default_options(SparkConnector.TIGERGRAPH)\n",
    "\n",
    "options[\"dbtable\"] = \"edge HAS\"\n",
    "\n",
    "spark_write(SparkConnector.TIGERGRAPH, has, \"Append\", options=options)"
   ]
  },
  {
   "cell_type": "code",
   "execution_count": 55,
   "metadata": {},
   "outputs": [
    {
     "name": "stdout",
     "output_type": "stream",
     "text": [
      "Dataframe saved to TIGERGRAPH\n"
     ]
    }
   ],
   "source": [
    "options = get_default_options(SparkConnector.TIGERGRAPH)\n",
    "\n",
    "options[\"dbtable\"] = \"edge STAYS_IN\"\n",
    "\n",
    "spark_write(SparkConnector.TIGERGRAPH, stays_in, \"Append\", options=options)"
   ]
  },
  {
   "cell_type": "code",
   "execution_count": null,
   "metadata": {},
   "outputs": [
    {
     "name": "stdout",
     "output_type": "stream",
     "text": [
      "Dataframe saved to TIGERGRAPH\n"
     ]
    }
   ],
   "source": [
    "options = get_default_options(SparkConnector.TIGERGRAPH)\n",
    "\n",
    "options[\"dbtable\"] = \"edge PARENT\"\n",
    "\n",
    "spark_write(SparkConnector.TIGERGRAPH, parent, \"Append\", options=options)"
   ]
  },
  {
   "cell_type": "code",
   "execution_count": 75,
   "metadata": {},
   "outputs": [
    {
     "name": "stdout",
     "output_type": "stream",
     "text": [
      "Dataframe saved to TIGERGRAPH\n"
     ]
    }
   ],
   "source": [
    "options = get_default_options(SparkConnector.TIGERGRAPH)\n",
    "\n",
    "options[\"dbtable\"] = \"edge WRITTEN_IN\"\n",
    "\n",
    "spark_write(SparkConnector.TIGERGRAPH, writted_in, \"Append\", options=options)"
   ]
  },
  {
   "cell_type": "code",
   "execution_count": 47,
   "metadata": {},
   "outputs": [
    {
     "name": "stdout",
     "output_type": "stream",
     "text": [
      "Dataframe saved to TIGERGRAPH\n"
     ]
    }
   ],
   "source": [
    "options = get_default_options(SparkConnector.TIGERGRAPH)\n",
    "\n",
    "options[\"dbtable\"] = \"edge AUTHOR\"\n",
    "\n",
    "spark_write(SparkConnector.TIGERGRAPH, author, \"Append\", options=options)"
   ]
  },
  {
   "cell_type": "code",
   "execution_count": 52,
   "metadata": {},
   "outputs": [
    {
     "name": "stdout",
     "output_type": "stream",
     "text": [
      "Dataframe saved to TIGERGRAPH\n"
     ]
    }
   ],
   "source": [
    "options = get_default_options(SparkConnector.TIGERGRAPH)\n",
    "\n",
    "options[\"dbtable\"] = \"edge COMMITED\"\n",
    "\n",
    "spark_write(SparkConnector.TIGERGRAPH, committed, \"Append\", options=options)"
   ]
  },
  {
   "cell_type": "markdown",
   "metadata": {},
   "source": [
    "## Stop spark context and spark session"
   ]
  },
  {
   "cell_type": "code",
   "execution_count": 76,
   "metadata": {},
   "outputs": [],
   "source": [
    "session.sparkContext.stop()\n",
    "session.stop()"
   ]
  },
  {
   "cell_type": "code",
   "execution_count": null,
   "metadata": {},
   "outputs": [],
   "source": []
  }
 ],
 "metadata": {
  "kernelspec": {
   "display_name": "Python 3 (ipykernel)",
   "language": "python",
   "name": "python3"
  },
  "language_info": {
   "codemirror_mode": {
    "name": "ipython",
    "version": 3
   },
   "file_extension": ".py",
   "mimetype": "text/x-python",
   "name": "python",
   "nbconvert_exporter": "python",
   "pygments_lexer": "ipython3",
   "version": "3.7.12"
  }
 },
 "nbformat": 4,
 "nbformat_minor": 4
}
