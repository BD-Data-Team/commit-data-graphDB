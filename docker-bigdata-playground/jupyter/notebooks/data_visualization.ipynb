{
 "cells": [
  {
   "cell_type": "code",
   "execution_count": null,
   "metadata": {},
   "outputs": [],
   "source": [
    "import sys\n",
    "fileDir = \"/home/jovyan/notebooks/\"\n",
    "sys.path.append(fileDir)\n",
    "\n",
    "from utilities import *"
   ]
  },
  {
   "cell_type": "code",
   "execution_count": null,
   "metadata": {},
   "outputs": [],
   "source": [
    "session = create_spark_session(\"Neo4j GitHub\", SparkConnector.NEO4J)"
   ]
  },
  {
   "cell_type": "markdown",
   "metadata": {},
   "source": [
    "### Savings nodes and edges for Data Visualization"
   ]
  },
  {
   "cell_type": "code",
   "execution_count": null,
   "metadata": {},
   "outputs": [],
   "source": [
    "options = get_default_options(SparkConnector.NEO4J)\n",
    "options[\"query\"] = \"\"\"\n",
    "                        MATCH (p)-[r]->(q) RETURN id(p) as Source, id(q) as Target, id(r) \n",
    "                        as id, type(r) as Relationship\n",
    "                    \"\"\"\n",
    "edges = spark_read(\n",
    "    SparkConnector.NEO4J, session, options=options)\n",
    "edges.write.option(\"header\", True).csv(\"hdfs://namenode:9000//data-team/edges\")"
   ]
  },
  {
   "cell_type": "code",
   "execution_count": null,
   "metadata": {},
   "outputs": [],
   "source": [
    "options = get_default_options(SparkConnector.NEO4J)\n",
    "options[\"query\"] = \"\"\"\n",
    "                        MATCH (n) RETURN id(n) as ID, labels(n)[0] as Tipo\n",
    "                    \"\"\"\n",
    "nodes = spark_read(\n",
    "    SparkConnector.NEO4J, session, options=options)\n",
    "nodes.write.option(\"header\", True).csv(\"hdfs://namenode:9000//data-team/nodes\")"
   ]
  },
  {
   "cell_type": "code",
   "execution_count": null,
   "metadata": {},
   "outputs": [],
   "source": [
    "session.sparkContext.stop()\n",
    "session.stop()"
   ]
  }
 ],
 "metadata": {
  "language_info": {
   "name": "python"
  },
  "orig_nbformat": 4
 },
 "nbformat": 4,
 "nbformat_minor": 2
}
