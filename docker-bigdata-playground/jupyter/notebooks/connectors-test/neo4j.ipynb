{
 "cells": [
  {
   "cell_type": "code",
   "execution_count": 1,
   "metadata": {},
   "outputs": [],
   "source": [
    "import os, sys\n",
    "\n",
    "fileDir = os.getcwd()\n",
    "path = os.path.join(fileDir, \"..\")\n",
    "sys.path.append(path)\n",
    "\n",
    "from utilities import *"
   ]
  },
  {
   "cell_type": "markdown",
   "metadata": {},
   "source": [
    "# Sample Data"
   ]
  },
  {
   "cell_type": "code",
   "execution_count": 2,
   "metadata": {},
   "outputs": [],
   "source": [
    "data = [(1, \"Alice\"),\n",
    "        (2, \"Bob\"),\n",
    "        (3, \"Charlie\")]\n",
    "\n",
    "relationship = [(1, 2), \n",
    "                (2, 3)]\n",
    "\n",
    "columns = [\"id\", \"name\"]\n",
    "relationship_columns = [\"from\", \"to\"]"
   ]
  },
  {
   "cell_type": "markdown",
   "metadata": {},
   "source": [
    "# Neo4j connector test"
   ]
  },
  {
   "cell_type": "code",
   "execution_count": 3,
   "metadata": {},
   "outputs": [
    {
     "name": "stdout",
     "output_type": "stream",
     "text": [
      "Added dependencies: \n",
      " ['neo4j-connector-apache-spark_2.12-5.0.1_for_spark_3.jar']\n"
     ]
    }
   ],
   "source": [
    "session = create_spark_session(\"Neo4j Test\", SparkConnector.NEO4J)"
   ]
  },
  {
   "cell_type": "markdown",
   "metadata": {},
   "source": [
    "## Write"
   ]
  },
  {
   "cell_type": "code",
   "execution_count": 9,
   "metadata": {},
   "outputs": [
    {
     "name": "stdout",
     "output_type": "stream",
     "text": [
      "Dataframe saved to NEO4J\n"
     ]
    }
   ],
   "source": [
    "df = session.createDataFrame(data, columns)\n",
    "\n",
    "options = get_default_options(SparkConnector.NEO4J)\n",
    "options[\"node.keys\"] = \"id\"\n",
    "options[\"labels\"] = \":Person\"\n",
    "\n",
    "spark_write(SparkConnector.NEO4J, df, \"Overwrite\", options=options)\n"
   ]
  },
  {
   "cell_type": "code",
   "execution_count": 10,
   "metadata": {},
   "outputs": [
    {
     "name": "stdout",
     "output_type": "stream",
     "text": [
      "Dataframe saved to NEO4J\n"
     ]
    }
   ],
   "source": [
    "df = session.createDataFrame(relationship, relationship_columns)\n",
    "options = get_default_options(SparkConnector.NEO4J)\n",
    "options[\"relationship\"] = \"FRIEND\"\n",
    "options[\"relationship.source.labels\"] = \"Person\"\n",
    "options[\"relationship.save.strategy\"] = \"keys\"\n",
    "options[\"relationship.source.node.keys\"] = \"from:id\"\n",
    "options[\"relationship.target.labels\"] = \"Person\"\n",
    "options[\"relationship.target.node.keys\"] = \"to:id\"\n",
    "\n",
    "spark_write(SparkConnector.NEO4J, df, \"Overwrite\", options=options)"
   ]
  },
  {
   "cell_type": "code",
   "execution_count": 5,
   "metadata": {},
   "outputs": [
    {
     "name": "stdout",
     "output_type": "stream",
     "text": [
      "Dataframe saved to NEO4J\n"
     ]
    }
   ],
   "source": [
    "df = session.createDataFrame(relationship, relationship_columns)\n",
    "options = get_default_options(SparkConnector.NEO4J)\n",
    "options[\"query\"] = \"MATCH (n :Person), (m :Person) \\\n",
    "                    WHERE (n.id = event.from) AND (m.id = event.to) \\\n",
    "                    CREATE (m)-[:FRIEND]->(n)\"\n",
    "spark_write(SparkConnector.NEO4J, df, \"Overwrite\", options=options)\n"
   ]
  },
  {
   "cell_type": "markdown",
   "metadata": {},
   "source": [
    "## Read"
   ]
  },
  {
   "cell_type": "code",
   "execution_count": 11,
   "metadata": {},
   "outputs": [
    {
     "name": "stdout",
     "output_type": "stream",
     "text": [
      "Dataframe loaded from neo4j\n",
      "+----+--------+-------+---+\n",
      "|<id>|<labels>|   name| id|\n",
      "+----+--------+-------+---+\n",
      "|   0|[Person]|  Alice|  1|\n",
      "|   1|[Person]|Charlie|  3|\n",
      "|   2|[Person]|    Bob|  2|\n",
      "+----+--------+-------+---+\n",
      "\n"
     ]
    }
   ],
   "source": [
    "options = get_default_options(SparkConnector.NEO4J)\n",
    "options[\"labels\"] = \":Person\"\n",
    "\n",
    "df = spark_read(SparkConnector.NEO4J, session, options=options)\n",
    "df.show()"
   ]
  },
  {
   "cell_type": "code",
   "execution_count": 12,
   "metadata": {},
   "outputs": [
    {
     "name": "stdout",
     "output_type": "stream",
     "text": [
      "Dataframe loaded from neo4j\n",
      "+-----+-------+\n",
      "| name| friend|\n",
      "+-----+-------+\n",
      "|Alice|    Bob|\n",
      "|  Bob|Charlie|\n",
      "+-----+-------+\n",
      "\n"
     ]
    }
   ],
   "source": [
    "options = get_default_options(SparkConnector.NEO4J)\n",
    "options[\"query\"] = \"MATCH (n:Person)-[r:FRIEND]->(m:Person) \\\n",
    "                    RETURN n.name as name,  m.name as friend\"\n",
    "\n",
    "df = spark_read(SparkConnector.NEO4J, session, options=options)\n",
    "df.show()"
   ]
  },
  {
   "cell_type": "markdown",
   "metadata": {},
   "source": [
    "## Stop spark context and spark session"
   ]
  },
  {
   "cell_type": "code",
   "execution_count": 13,
   "metadata": {},
   "outputs": [],
   "source": [
    "\n",
    "session.sparkContext.stop()\n",
    "session.stop()"
   ]
  },
  {
   "cell_type": "code",
   "execution_count": null,
   "metadata": {},
   "outputs": [],
   "source": []
  }
 ],
 "metadata": {
  "kernelspec": {
   "display_name": "Python 3 (ipykernel)",
   "language": "python",
   "name": "python3"
  },
  "language_info": {
   "codemirror_mode": {
    "name": "ipython",
    "version": 3
   },
   "file_extension": ".py",
   "mimetype": "text/x-python",
   "name": "python",
   "nbconvert_exporter": "python",
   "pygments_lexer": "ipython3",
   "version": "3.7.12"
  }
 },
 "nbformat": 4,
 "nbformat_minor": 4
}
