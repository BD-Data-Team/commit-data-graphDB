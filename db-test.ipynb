{
 "cells": [
  {
   "cell_type": "code",
   "execution_count": 1,
   "metadata": {},
   "outputs": [],
   "source": [
    "#  pip install google-cloud-bigquery -U\n",
    "#  pip install pandas-gbq -U\n",
    "import pandas as pd\n",
    "from google.cloud import bigquery\n"
   ]
  },
  {
   "cell_type": "code",
   "execution_count": 4,
   "metadata": {},
   "outputs": [
    {
     "name": "stdout",
     "output_type": "stream",
     "text": [
      "50000\n",
      "\n",
      "  EXPORT DATA OPTIONS(\n",
      "      uri='gs://github_activity_data/dataset/commits/*.json',\n",
      "      format='json',\n",
      "      overwrite=true) AS\n",
      "  SELECT com.*\n",
      "  FROM (\n",
      "          SELECT repo_name \n",
      "          FROM github_activity_data.sample_repos\n",
      "          LIMIT 50000\n",
      "          ) as t,\n",
      "          github_activity_data.commits as com\n",
      "\n",
      "  WHERE com.repo_name[ordinal(1)] = t.repo_name;\n",
      "\n",
      "  EXPORT DATA OPTIONS(\n",
      "    uri='gs://github_activity_data/dataset/files/*.json',\n",
      "    format='json',\n",
      "    overwrite=true) AS\n",
      "  SELECT fil.*\n",
      "  FROM (\n",
      "          SELECT repo_name \n",
      "          FROM github_activity_data.sample_repos\n",
      "          LIMIT 50000\n",
      "          ) as t,\n",
      "          github_activity_data.files as fil\n",
      "  WHERE fil.repo_name = t.repo_name;\n",
      "\n",
      "  EXPORT DATA OPTIONS(\n",
      "      uri='gs://github_activity_data/dataset/languages/*.json',\n",
      "      format='json',\n",
      "      overwrite=true) AS\n",
      "  SELECT com.*\n",
      "  FROM (\n",
      "          SELECT repo_name \n",
      "          FROM github_activity_data.sample_repos\n",
      "          LIMIT 50000\n",
      "          ) as t,\n",
      "          github_activity_data.languages as com\n",
      "\n",
      "  WHERE com.repo_name = t.repo_name;\n",
      "\n",
      "  EXPORT DATA OPTIONS(\n",
      "      uri='gs://github_activity_data/dataset/licenses/*.json',\n",
      "      format='json',\n",
      "      overwrite=true) AS\n",
      "  SELECT com.*\n",
      "  FROM (\n",
      "          SELECT repo_name \n",
      "          FROM github_activity_data.sample_repos\n",
      "          LIMIT 50000\n",
      "          ) as t,\n",
      "          github_activity_data.licenses as com\n",
      "\n",
      "  WHERE com.repo_name = t.repo_name;\n",
      "\n"
     ]
    }
   ],
   "source": [
    "# 3.280.108 repos -> 800 GB\n",
    "# 1.000.000 repos -> 250 GB\n",
    "# 100.000 repos -> 25 GB\n",
    "# 10.000 repos -> 2.5 GB\n",
    "client = bigquery.Client()\n",
    "\n",
    "repos_num = 2 * 10 ** 4\n",
    "query = f\"\"\"\n",
    "  EXPORT DATA OPTIONS(\n",
    "      uri='gs://github_activity_data/dataset/commits/*.json',\n",
    "      format='json',\n",
    "      overwrite=true) AS\n",
    "  SELECT count(distinct(t.repo_name))\n",
    "  FROM (\n",
    "        SELECT repo_name \n",
    "        FROM github_activity_data.sample_repos\n",
    "        LIMIT {repos_num}\n",
    "                ) as t,\n",
    "        github_activity_data.commits as com,\n",
    "        UNNEST (com.repo_name) as rep\n",
    "\n",
    "   WHERE rep in (t.repo_name);\n",
    "\n",
    "  EXPORT DATA OPTIONS(\n",
    "    uri='gs://github_activity_data/dataset/files/*.json',\n",
    "    format='json',\n",
    "    overwrite=true) AS\n",
    "  SELECT fil.*\n",
    "  FROM (\n",
    "        SELECT repo_name \n",
    "        FROM github_activity_data.sample_repos\n",
    "        LIMIT {repos_num}\n",
    "        ) as t,\n",
    "        github_activity_data.files as fil\n",
    "  WHERE fil.repo_name = t.repo_name;\n",
    "\n",
    "  EXPORT DATA OPTIONS(\n",
    "      uri='gs://github_activity_data/dataset/languages/*.json',\n",
    "      format='json',\n",
    "      overwrite=true) AS\n",
    "  SELECT com.*\n",
    "  FROM (\n",
    "        SELECT repo_name \n",
    "        FROM github_activity_data.sample_repos\n",
    "        LIMIT {repos_num}\n",
    "        ) as t,\n",
    "        github_activity_data.languages as com\n",
    "\n",
    "  WHERE com.repo_name = t.repo_name;\n",
    "\n",
    "  EXPORT DATA OPTIONS(\n",
    "      uri='gs://github_activity_data/dataset/licenses/*.json',\n",
    "      format='json',\n",
    "      overwrite=true) AS\n",
    "  SELECT com.*\n",
    "  FROM (\n",
    "        SELECT repo_name \n",
    "        FROM github_activity_data.sample_repos\n",
    "        LIMIT {repos_num}\n",
    "        ) as t,\n",
    "        github_activity_data.licenses as com\n",
    "\n",
    "  WHERE com.repo_name = t.repo_name;\n",
    "\"\"\"\n",
    "print(repos_num)\n",
    "print(query)\n"
   ]
  },
  {
   "cell_type": "code",
   "execution_count": 5,
   "metadata": {},
   "outputs": [
    {
     "data": {
      "text/plain": [
       "<google.cloud.bigquery.table._EmptyRowIterator at 0x10663e820>"
      ]
     },
     "execution_count": 5,
     "metadata": {},
     "output_type": "execute_result"
    }
   ],
   "source": [
    "query_job = client.query(query)  # API request\n",
    "query_job.result()  # Waits for query to finish"
   ]
  }
 ],
 "metadata": {
  "kernelspec": {
   "display_name": "bd_env",
   "language": "python",
   "name": "python3"
  },
  "language_info": {
   "codemirror_mode": {
    "name": "ipython",
    "version": 3
   },
   "file_extension": ".py",
   "mimetype": "text/x-python",
   "name": "python",
   "nbconvert_exporter": "python",
   "pygments_lexer": "ipython3",
   "version": "3.9.16"
  },
  "orig_nbformat": 4
 },
 "nbformat": 4,
 "nbformat_minor": 2
}
