{
 "cells": [
  {
   "cell_type": "code",
   "execution_count": 2,
   "metadata": {},
   "outputs": [],
   "source": [
    "#  pip install google-cloud-bigquery -U\n",
    "#  pip install pandas-gbq -U\n",
    "import pandas as pd\n",
    "from google.cloud import bigquery\n",
    "from google.oauth2 import service_account\n",
    "import os\n",
    "\n",
    "credentials = service_account.Credentials.from_service_account_file(\n",
    "    os.environ['GOOGLE_APPLICATION_CREDENTIALS'],\n",
    "    scopes=['https://www.googleapis.com/auth/cloud-platform'],\n",
    ")"
   ]
  },
  {
   "cell_type": "code",
   "execution_count": null,
   "metadata": {},
   "outputs": [],
   "source": [
    "number_of_rows = 10 * 10 ** 6 # 10 millions\n",
    "\n",
    "table_name = 'commits'\n",
    "table = f'github_activity_data.{table_name}'\n",
    "\n",
    "query = f\"\"\"\n",
    "    SELECT *\n",
    "    FROM {table}\n",
    "    WHERE RAND() < {number_of_rows}/( \n",
    "        SELECT COUNT(*) \n",
    "        FROM {table})\n",
    "    LIMIT {number_of_rows};\n",
    "    \"\"\"\n",
    "\n",
    "df = pd.read_gbq(query, credentials=credentials)"
   ]
  }
 ],
 "metadata": {
  "kernelspec": {
   "display_name": "bd_env",
   "language": "python",
   "name": "python3"
  },
  "language_info": {
   "codemirror_mode": {
    "name": "ipython",
    "version": 3
   },
   "file_extension": ".py",
   "mimetype": "text/x-python",
   "name": "python",
   "nbconvert_exporter": "python",
   "pygments_lexer": "ipython3",
   "version": "3.9.16"
  },
  "orig_nbformat": 4
 },
 "nbformat": 4,
 "nbformat_minor": 2
}
